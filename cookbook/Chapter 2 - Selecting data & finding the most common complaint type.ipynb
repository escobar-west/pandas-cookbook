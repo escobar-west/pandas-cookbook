{
 "cells": [
  {
   "cell_type": "code",
   "execution_count": 1,
   "metadata": {},
   "outputs": [
    {
     "name": "stdout",
     "output_type": "stream",
     "text": [
      "1.6.0\n"
     ]
    }
   ],
   "source": [
    "import polars as pl\n",
    "import polars.selectors as cs\n",
    "import seaborn as sbn\n",
    "import matplotlib.pyplot as plt\n",
    "\n",
    "# Make the graphs a bit prettier, and bigger\n",
    "plt.style.use('ggplot')\n",
    "plt.rcParams['figure.figsize'] = (15, 5)\n",
    "print(pl.__version__)"
   ]
  },
  {
   "attachments": {},
   "cell_type": "markdown",
   "metadata": {},
   "source": [
    "We're going to use a new dataset here, to demonstrate how to deal with larger datasets. This is a subset of the of 311 service requests from [NYC Open Data](https://nycopendata.socrata.com/Social-Services/311-Service-Requests-from-2010-to-Present/erm2-nwe9). "
   ]
  },
  {
   "cell_type": "code",
   "execution_count": 2,
   "metadata": {},
   "outputs": [],
   "source": [
    "# because of mixed types we specify dtype to prevent any errors\n",
    "complaints = pl.read_csv('../data/311-service-requests.csv', schema_overrides={'Incident Zip':pl.String})"
   ]
  },
  {
   "attachments": {},
   "cell_type": "markdown",
   "metadata": {},
   "source": [
    "Notice that we had to explicitly specify the dtype of the 'Incident Zip' column as a string type. This means that it's encountered a problem reading in our data. In this case it almost certainly means that it has columns where some of the entries are strings and some are integers.\n",
    "\n",
    "For now we're going to ignore it and hope we don't run into a problem, but in the long run we'd need to investigate this warning."
   ]
  },
  {
   "attachments": {},
   "cell_type": "markdown",
   "metadata": {},
   "source": [
    "# 2.1 What's even in it? (the summary)"
   ]
  },
  {
   "attachments": {},
   "cell_type": "markdown",
   "metadata": {},
   "source": [
    "Use the head function to get the top rows of a dataframe This is a great way to get a sense for what kind of information is in the dataframe -- take a minute to look at the contents and get a feel for this dataset."
   ]
  },
  {
   "cell_type": "code",
   "execution_count": 3,
   "metadata": {},
   "outputs": [
    {
     "data": {
      "text/html": [
       "<div><style>\n",
       ".dataframe > thead > tr,\n",
       ".dataframe > tbody > tr {\n",
       "  text-align: right;\n",
       "  white-space: pre-wrap;\n",
       "}\n",
       "</style>\n",
       "<small>shape: (5, 52)</small><table border=\"1\" class=\"dataframe\"><thead><tr><th>Unique Key</th><th>Created Date</th><th>Closed Date</th><th>Agency</th><th>Agency Name</th><th>Complaint Type</th><th>Descriptor</th><th>Location Type</th><th>Incident Zip</th><th>Incident Address</th><th>Street Name</th><th>Cross Street 1</th><th>Cross Street 2</th><th>Intersection Street 1</th><th>Intersection Street 2</th><th>Address Type</th><th>City</th><th>Landmark</th><th>Facility Type</th><th>Status</th><th>Due Date</th><th>Resolution Action Updated Date</th><th>Community Board</th><th>Borough</th><th>X Coordinate (State Plane)</th><th>Y Coordinate (State Plane)</th><th>Park Facility Name</th><th>Park Borough</th><th>School Name</th><th>School Number</th><th>School Region</th><th>School Code</th><th>School Phone Number</th><th>School Address</th><th>School City</th><th>School State</th><th>School Zip</th><th>School Not Found</th><th>School or Citywide Complaint</th><th>Vehicle Type</th><th>Taxi Company Borough</th><th>Taxi Pick Up Location</th><th>Bridge Highway Name</th><th>Bridge Highway Direction</th><th>Road Ramp</th><th>Bridge Highway Segment</th><th>Garage Lot Name</th><th>Ferry Direction</th><th>Ferry Terminal Name</th><th>Latitude</th><th>Longitude</th><th>Location</th></tr><tr><td>i64</td><td>str</td><td>str</td><td>str</td><td>str</td><td>str</td><td>str</td><td>str</td><td>str</td><td>str</td><td>str</td><td>str</td><td>str</td><td>str</td><td>str</td><td>str</td><td>str</td><td>str</td><td>str</td><td>str</td><td>str</td><td>str</td><td>str</td><td>str</td><td>i64</td><td>i64</td><td>str</td><td>str</td><td>str</td><td>str</td><td>str</td><td>str</td><td>str</td><td>str</td><td>str</td><td>str</td><td>str</td><td>str</td><td>str</td><td>str</td><td>str</td><td>str</td><td>str</td><td>str</td><td>str</td><td>str</td><td>str</td><td>str</td><td>str</td><td>f64</td><td>f64</td><td>str</td></tr></thead><tbody><tr><td>26589651</td><td>&quot;10/31/2013 02:08:41 AM&quot;</td><td>null</td><td>&quot;NYPD&quot;</td><td>&quot;New York City Police Departmen…</td><td>&quot;Noise - Street/Sidewalk&quot;</td><td>&quot;Loud Talking&quot;</td><td>&quot;Street/Sidewalk&quot;</td><td>&quot;11432&quot;</td><td>&quot;90-03 169 STREET&quot;</td><td>&quot;169 STREET&quot;</td><td>&quot;90 AVENUE&quot;</td><td>&quot;91 AVENUE&quot;</td><td>null</td><td>null</td><td>&quot;ADDRESS&quot;</td><td>&quot;JAMAICA&quot;</td><td>null</td><td>&quot;Precinct&quot;</td><td>&quot;Assigned&quot;</td><td>&quot;10/31/2013 10:08:41 AM&quot;</td><td>&quot;10/31/2013 02:35:17 AM&quot;</td><td>&quot;12 QUEENS&quot;</td><td>&quot;QUEENS&quot;</td><td>1042027</td><td>197389</td><td>&quot;Unspecified&quot;</td><td>&quot;QUEENS&quot;</td><td>&quot;Unspecified&quot;</td><td>&quot;Unspecified&quot;</td><td>&quot;Unspecified&quot;</td><td>&quot;Unspecified&quot;</td><td>&quot;Unspecified&quot;</td><td>&quot;Unspecified&quot;</td><td>&quot;Unspecified&quot;</td><td>&quot;Unspecified&quot;</td><td>&quot;Unspecified&quot;</td><td>&quot;N&quot;</td><td>null</td><td>null</td><td>null</td><td>null</td><td>null</td><td>null</td><td>null</td><td>null</td><td>null</td><td>null</td><td>null</td><td>40.708275</td><td>-73.791604</td><td>&quot;(40.70827532593202, -73.791603…</td></tr><tr><td>26593698</td><td>&quot;10/31/2013 02:01:04 AM&quot;</td><td>null</td><td>&quot;NYPD&quot;</td><td>&quot;New York City Police Departmen…</td><td>&quot;Illegal Parking&quot;</td><td>&quot;Commercial Overnight Parking&quot;</td><td>&quot;Street/Sidewalk&quot;</td><td>&quot;11378&quot;</td><td>&quot;58 AVENUE&quot;</td><td>&quot;58 AVENUE&quot;</td><td>&quot;58 PLACE&quot;</td><td>&quot;59 STREET&quot;</td><td>null</td><td>null</td><td>&quot;BLOCKFACE&quot;</td><td>&quot;MASPETH&quot;</td><td>null</td><td>&quot;Precinct&quot;</td><td>&quot;Open&quot;</td><td>&quot;10/31/2013 10:01:04 AM&quot;</td><td>null</td><td>&quot;05 QUEENS&quot;</td><td>&quot;QUEENS&quot;</td><td>1009349</td><td>201984</td><td>&quot;Unspecified&quot;</td><td>&quot;QUEENS&quot;</td><td>&quot;Unspecified&quot;</td><td>&quot;Unspecified&quot;</td><td>&quot;Unspecified&quot;</td><td>&quot;Unspecified&quot;</td><td>&quot;Unspecified&quot;</td><td>&quot;Unspecified&quot;</td><td>&quot;Unspecified&quot;</td><td>&quot;Unspecified&quot;</td><td>&quot;Unspecified&quot;</td><td>&quot;N&quot;</td><td>null</td><td>null</td><td>null</td><td>null</td><td>null</td><td>null</td><td>null</td><td>null</td><td>null</td><td>null</td><td>null</td><td>40.721041</td><td>-73.909453</td><td>&quot;(40.721040535628305, -73.90945…</td></tr><tr><td>26594139</td><td>&quot;10/31/2013 02:00:24 AM&quot;</td><td>&quot;10/31/2013 02:40:32 AM&quot;</td><td>&quot;NYPD&quot;</td><td>&quot;New York City Police Departmen…</td><td>&quot;Noise - Commercial&quot;</td><td>&quot;Loud Music/Party&quot;</td><td>&quot;Club/Bar/Restaurant&quot;</td><td>&quot;10032&quot;</td><td>&quot;4060 BROADWAY&quot;</td><td>&quot;BROADWAY&quot;</td><td>&quot;WEST 171 STREET&quot;</td><td>&quot;WEST 172 STREET&quot;</td><td>null</td><td>null</td><td>&quot;ADDRESS&quot;</td><td>&quot;NEW YORK&quot;</td><td>null</td><td>&quot;Precinct&quot;</td><td>&quot;Closed&quot;</td><td>&quot;10/31/2013 10:00:24 AM&quot;</td><td>&quot;10/31/2013 02:39:42 AM&quot;</td><td>&quot;12 MANHATTAN&quot;</td><td>&quot;MANHATTAN&quot;</td><td>1001088</td><td>246531</td><td>&quot;Unspecified&quot;</td><td>&quot;MANHATTAN&quot;</td><td>&quot;Unspecified&quot;</td><td>&quot;Unspecified&quot;</td><td>&quot;Unspecified&quot;</td><td>&quot;Unspecified&quot;</td><td>&quot;Unspecified&quot;</td><td>&quot;Unspecified&quot;</td><td>&quot;Unspecified&quot;</td><td>&quot;Unspecified&quot;</td><td>&quot;Unspecified&quot;</td><td>&quot;N&quot;</td><td>null</td><td>null</td><td>null</td><td>null</td><td>null</td><td>null</td><td>null</td><td>null</td><td>null</td><td>null</td><td>null</td><td>40.84333</td><td>-73.939144</td><td>&quot;(40.84332975466513, -73.939143…</td></tr><tr><td>26595721</td><td>&quot;10/31/2013 01:56:23 AM&quot;</td><td>&quot;10/31/2013 02:21:48 AM&quot;</td><td>&quot;NYPD&quot;</td><td>&quot;New York City Police Departmen…</td><td>&quot;Noise - Vehicle&quot;</td><td>&quot;Car/Truck Horn&quot;</td><td>&quot;Street/Sidewalk&quot;</td><td>&quot;10023&quot;</td><td>&quot;WEST 72 STREET&quot;</td><td>&quot;WEST 72 STREET&quot;</td><td>&quot;COLUMBUS AVENUE&quot;</td><td>&quot;AMSTERDAM AVENUE&quot;</td><td>null</td><td>null</td><td>&quot;BLOCKFACE&quot;</td><td>&quot;NEW YORK&quot;</td><td>null</td><td>&quot;Precinct&quot;</td><td>&quot;Closed&quot;</td><td>&quot;10/31/2013 09:56:23 AM&quot;</td><td>&quot;10/31/2013 02:21:10 AM&quot;</td><td>&quot;07 MANHATTAN&quot;</td><td>&quot;MANHATTAN&quot;</td><td>989730</td><td>222727</td><td>&quot;Unspecified&quot;</td><td>&quot;MANHATTAN&quot;</td><td>&quot;Unspecified&quot;</td><td>&quot;Unspecified&quot;</td><td>&quot;Unspecified&quot;</td><td>&quot;Unspecified&quot;</td><td>&quot;Unspecified&quot;</td><td>&quot;Unspecified&quot;</td><td>&quot;Unspecified&quot;</td><td>&quot;Unspecified&quot;</td><td>&quot;Unspecified&quot;</td><td>&quot;N&quot;</td><td>null</td><td>null</td><td>null</td><td>null</td><td>null</td><td>null</td><td>null</td><td>null</td><td>null</td><td>null</td><td>null</td><td>40.778009</td><td>-73.980213</td><td>&quot;(40.7780087446372, -73.9802134…</td></tr><tr><td>26590930</td><td>&quot;10/31/2013 01:53:44 AM&quot;</td><td>null</td><td>&quot;DOHMH&quot;</td><td>&quot;Department of Health and Menta…</td><td>&quot;Rodent&quot;</td><td>&quot;Condition Attracting Rodents&quot;</td><td>&quot;Vacant Lot&quot;</td><td>&quot;10027&quot;</td><td>&quot;WEST 124 STREET&quot;</td><td>&quot;WEST 124 STREET&quot;</td><td>&quot;LENOX AVENUE&quot;</td><td>&quot;ADAM CLAYTON POWELL JR BOULEVA…</td><td>null</td><td>null</td><td>&quot;BLOCKFACE&quot;</td><td>&quot;NEW YORK&quot;</td><td>null</td><td>&quot;N/A&quot;</td><td>&quot;Pending&quot;</td><td>&quot;11/30/2013 01:53:44 AM&quot;</td><td>&quot;10/31/2013 01:59:54 AM&quot;</td><td>&quot;10 MANHATTAN&quot;</td><td>&quot;MANHATTAN&quot;</td><td>998815</td><td>233545</td><td>&quot;Unspecified&quot;</td><td>&quot;MANHATTAN&quot;</td><td>&quot;Unspecified&quot;</td><td>&quot;Unspecified&quot;</td><td>&quot;Unspecified&quot;</td><td>&quot;Unspecified&quot;</td><td>&quot;Unspecified&quot;</td><td>&quot;Unspecified&quot;</td><td>&quot;Unspecified&quot;</td><td>&quot;Unspecified&quot;</td><td>&quot;Unspecified&quot;</td><td>&quot;N&quot;</td><td>null</td><td>null</td><td>null</td><td>null</td><td>null</td><td>null</td><td>null</td><td>null</td><td>null</td><td>null</td><td>null</td><td>40.807691</td><td>-73.947387</td><td>&quot;(40.80769092704951, -73.947387…</td></tr></tbody></table></div>"
      ],
      "text/plain": [
       "shape: (5, 52)\n",
       "┌────────────┬────────────┬───────────┬────────┬───┬───────────┬───────────┬───────────┬───────────┐\n",
       "│ Unique Key ┆ Created    ┆ Closed    ┆ Agency ┆ … ┆ Ferry     ┆ Latitude  ┆ Longitude ┆ Location  │\n",
       "│ ---        ┆ Date       ┆ Date      ┆ ---    ┆   ┆ Terminal  ┆ ---       ┆ ---       ┆ ---       │\n",
       "│ i64        ┆ ---        ┆ ---       ┆ str    ┆   ┆ Name      ┆ f64       ┆ f64       ┆ str       │\n",
       "│            ┆ str        ┆ str       ┆        ┆   ┆ ---       ┆           ┆           ┆           │\n",
       "│            ┆            ┆           ┆        ┆   ┆ str       ┆           ┆           ┆           │\n",
       "╞════════════╪════════════╪═══════════╪════════╪═══╪═══════════╪═══════════╪═══════════╪═══════════╡\n",
       "│ 26589651   ┆ 10/31/2013 ┆ null      ┆ NYPD   ┆ … ┆ null      ┆ 40.708275 ┆ -73.79160 ┆ (40.70827 │\n",
       "│            ┆ 02:08:41   ┆           ┆        ┆   ┆           ┆           ┆ 4         ┆ 532593202 │\n",
       "│            ┆ AM         ┆           ┆        ┆   ┆           ┆           ┆           ┆ , -73.791 │\n",
       "│            ┆            ┆           ┆        ┆   ┆           ┆           ┆           ┆ 603…      │\n",
       "│ 26593698   ┆ 10/31/2013 ┆ null      ┆ NYPD   ┆ … ┆ null      ┆ 40.721041 ┆ -73.90945 ┆ (40.72104 │\n",
       "│            ┆ 02:01:04   ┆           ┆        ┆   ┆           ┆           ┆ 3         ┆ 053562830 │\n",
       "│            ┆ AM         ┆           ┆        ┆   ┆           ┆           ┆           ┆ 5, -73.90 │\n",
       "│            ┆            ┆           ┆        ┆   ┆           ┆           ┆           ┆ 945…      │\n",
       "│ 26594139   ┆ 10/31/2013 ┆ 10/31/201 ┆ NYPD   ┆ … ┆ null      ┆ 40.84333  ┆ -73.93914 ┆ (40.84332 │\n",
       "│            ┆ 02:00:24   ┆ 3         ┆        ┆   ┆           ┆           ┆ 4         ┆ 975466513 │\n",
       "│            ┆ AM         ┆ 02:40:32  ┆        ┆   ┆           ┆           ┆           ┆ , -73.939 │\n",
       "│            ┆            ┆ AM        ┆        ┆   ┆           ┆           ┆           ┆ 143…      │\n",
       "│ 26595721   ┆ 10/31/2013 ┆ 10/31/201 ┆ NYPD   ┆ … ┆ null      ┆ 40.778009 ┆ -73.98021 ┆ (40.77800 │\n",
       "│            ┆ 01:56:23   ┆ 3         ┆        ┆   ┆           ┆           ┆ 3         ┆ 87446372, │\n",
       "│            ┆ AM         ┆ 02:21:48  ┆        ┆   ┆           ┆           ┆           ┆ -73.98021 │\n",
       "│            ┆            ┆ AM        ┆        ┆   ┆           ┆           ┆           ┆ 34…       │\n",
       "│ 26590930   ┆ 10/31/2013 ┆ null      ┆ DOHMH  ┆ … ┆ null      ┆ 40.807691 ┆ -73.94738 ┆ (40.80769 │\n",
       "│            ┆ 01:53:44   ┆           ┆        ┆   ┆           ┆           ┆ 7         ┆ 092704951 │\n",
       "│            ┆ AM         ┆           ┆        ┆   ┆           ┆           ┆           ┆ , -73.947 │\n",
       "│            ┆            ┆           ┆        ┆   ┆           ┆           ┆           ┆ 387…      │\n",
       "└────────────┴────────────┴───────────┴────────┴───┴───────────┴───────────┴───────────┴───────────┘"
      ]
     },
     "execution_count": 3,
     "metadata": {},
     "output_type": "execute_result"
    }
   ],
   "source": [
    "complaints.head()"
   ]
  },
  {
   "attachments": {},
   "cell_type": "markdown",
   "metadata": {},
   "source": [
    "# 2.2 Selecting a single column (a Series)"
   ]
  },
  {
   "attachments": {},
   "cell_type": "markdown",
   "metadata": {},
   "source": [
    "Polars offers two methods to get a single column (ie, a pl.Series object). The robust and functional way is to use the `df.get_column` function, but you can also use the [] syntax to save a few keystrokes. The reason why `df.get_column` is more robust is that `df.get_column` will always return a `Series` whereas indexing with [] may return a `Series` or `DataFrame` depending on the input."
   ]
  },
  {
   "cell_type": "code",
   "execution_count": 4,
   "metadata": {},
   "outputs": [
    {
     "data": {
      "text/plain": [
       "polars.series.series.Series"
      ]
     },
     "metadata": {},
     "output_type": "display_data"
    },
    {
     "data": {
      "text/html": [
       "<div><style>\n",
       ".dataframe > thead > tr,\n",
       ".dataframe > tbody > tr {\n",
       "  text-align: right;\n",
       "  white-space: pre-wrap;\n",
       "}\n",
       "</style>\n",
       "<small>shape: (111_069,)</small><table border=\"1\" class=\"dataframe\"><thead><tr><th>Complaint Type</th></tr><tr><td>str</td></tr></thead><tbody><tr><td>&quot;Noise - Street/Sidewalk&quot;</td></tr><tr><td>&quot;Illegal Parking&quot;</td></tr><tr><td>&quot;Noise - Commercial&quot;</td></tr><tr><td>&quot;Noise - Vehicle&quot;</td></tr><tr><td>&quot;Rodent&quot;</td></tr><tr><td>&hellip;</td></tr><tr><td>&quot;Maintenance or Facility&quot;</td></tr><tr><td>&quot;Illegal Parking&quot;</td></tr><tr><td>&quot;Noise - Street/Sidewalk&quot;</td></tr><tr><td>&quot;Noise - Commercial&quot;</td></tr><tr><td>&quot;Blocked Driveway&quot;</td></tr></tbody></table></div>"
      ],
      "text/plain": [
       "shape: (111_069,)\n",
       "Series: 'Complaint Type' [str]\n",
       "[\n",
       "\t\"Noise - Street/Sidewalk\"\n",
       "\t\"Illegal Parking\"\n",
       "\t\"Noise - Commercial\"\n",
       "\t\"Noise - Vehicle\"\n",
       "\t\"Rodent\"\n",
       "\t…\n",
       "\t\"Maintenance or Facility\"\n",
       "\t\"Illegal Parking\"\n",
       "\t\"Noise - Street/Sidewalk\"\n",
       "\t\"Noise - Commercial\"\n",
       "\t\"Blocked Driveway\"\n",
       "]"
      ]
     },
     "metadata": {},
     "output_type": "display_data"
    }
   ],
   "source": [
    "single_column = complaints.get_column('Complaint Type') # can also use complaints['Complaint Type']\n",
    "display(type(single_column))\n",
    "display(single_column)"
   ]
  },
  {
   "attachments": {},
   "cell_type": "markdown",
   "metadata": {},
   "source": [
    "`Series` objects also have a `head` function:"
   ]
  },
  {
   "cell_type": "code",
   "execution_count": 5,
   "metadata": {},
   "outputs": [
    {
     "data": {
      "text/html": [
       "<div><style>\n",
       ".dataframe > thead > tr,\n",
       ".dataframe > tbody > tr {\n",
       "  text-align: right;\n",
       "  white-space: pre-wrap;\n",
       "}\n",
       "</style>\n",
       "<small>shape: (10,)</small><table border=\"1\" class=\"dataframe\"><thead><tr><th>Complaint Type</th></tr><tr><td>str</td></tr></thead><tbody><tr><td>&quot;Noise - Street/Sidewalk&quot;</td></tr><tr><td>&quot;Illegal Parking&quot;</td></tr><tr><td>&quot;Noise - Commercial&quot;</td></tr><tr><td>&quot;Noise - Vehicle&quot;</td></tr><tr><td>&quot;Rodent&quot;</td></tr><tr><td>&quot;Noise - Commercial&quot;</td></tr><tr><td>&quot;Blocked Driveway&quot;</td></tr><tr><td>&quot;Noise - Commercial&quot;</td></tr><tr><td>&quot;Noise - Commercial&quot;</td></tr><tr><td>&quot;Noise - Commercial&quot;</td></tr></tbody></table></div>"
      ],
      "text/plain": [
       "shape: (10,)\n",
       "Series: 'Complaint Type' [str]\n",
       "[\n",
       "\t\"Noise - Street/Sidewalk\"\n",
       "\t\"Illegal Parking\"\n",
       "\t\"Noise - Commercial\"\n",
       "\t\"Noise - Vehicle\"\n",
       "\t\"Rodent\"\n",
       "\t\"Noise - Commercial\"\n",
       "\t\"Blocked Driveway\"\n",
       "\t\"Noise - Commercial\"\n",
       "\t\"Noise - Commercial\"\n",
       "\t\"Noise - Commercial\"\n",
       "]"
      ]
     },
     "execution_count": 5,
     "metadata": {},
     "output_type": "execute_result"
    }
   ],
   "source": [
    "complaints['Complaint Type'].head()"
   ]
  },
  {
   "attachments": {},
   "cell_type": "markdown",
   "metadata": {},
   "source": [
    "# 2.3 Selecting multiple columns (a DataFrame)"
   ]
  },
  {
   "attachments": {},
   "cell_type": "markdown",
   "metadata": {},
   "source": [
    "What if we just want to know the complaint type and the borough, but not the rest of the information? Polars provides the `df.select` method to select multiple columns. This method always returns a DataFrame."
   ]
  },
  {
   "cell_type": "code",
   "execution_count": 6,
   "metadata": {},
   "outputs": [
    {
     "data": {
      "text/html": [
       "<div><style>\n",
       ".dataframe > thead > tr,\n",
       ".dataframe > tbody > tr {\n",
       "  text-align: right;\n",
       "  white-space: pre-wrap;\n",
       "}\n",
       "</style>\n",
       "<small>shape: (5, 2)</small><table border=\"1\" class=\"dataframe\"><thead><tr><th>Complaint Type</th><th>Borough</th></tr><tr><td>str</td><td>str</td></tr></thead><tbody><tr><td>&quot;Noise - Street/Sidewalk&quot;</td><td>&quot;QUEENS&quot;</td></tr><tr><td>&quot;Illegal Parking&quot;</td><td>&quot;QUEENS&quot;</td></tr><tr><td>&quot;Noise - Commercial&quot;</td><td>&quot;MANHATTAN&quot;</td></tr><tr><td>&quot;Noise - Vehicle&quot;</td><td>&quot;MANHATTAN&quot;</td></tr><tr><td>&quot;Rodent&quot;</td><td>&quot;MANHATTAN&quot;</td></tr></tbody></table></div>"
      ],
      "text/plain": [
       "shape: (5, 2)\n",
       "┌─────────────────────────┬───────────┐\n",
       "│ Complaint Type          ┆ Borough   │\n",
       "│ ---                     ┆ ---       │\n",
       "│ str                     ┆ str       │\n",
       "╞═════════════════════════╪═══════════╡\n",
       "│ Noise - Street/Sidewalk ┆ QUEENS    │\n",
       "│ Illegal Parking         ┆ QUEENS    │\n",
       "│ Noise - Commercial      ┆ MANHATTAN │\n",
       "│ Noise - Vehicle         ┆ MANHATTAN │\n",
       "│ Rodent                  ┆ MANHATTAN │\n",
       "└─────────────────────────┴───────────┘"
      ]
     },
     "execution_count": 6,
     "metadata": {},
     "output_type": "execute_result"
    }
   ],
   "source": [
    "complaints.select('Complaint Type', 'Borough').head()"
   ]
  },
  {
   "cell_type": "markdown",
   "metadata": {},
   "source": [
    "The `polars.selectors` module (imported as `cs`) offers a powerful syntax for fine-tuned column selection. Here, we select the `Created Date` column along with all columns with \"School\" in their name."
   ]
  },
  {
   "cell_type": "code",
   "execution_count": 7,
   "metadata": {},
   "outputs": [
    {
     "data": {
      "text/html": [
       "<div><style>\n",
       ".dataframe > thead > tr,\n",
       ".dataframe > tbody > tr {\n",
       "  text-align: right;\n",
       "  white-space: pre-wrap;\n",
       "}\n",
       "</style>\n",
       "<small>shape: (5, 12)</small><table border=\"1\" class=\"dataframe\"><thead><tr><th>Created Date</th><th>School Name</th><th>School Number</th><th>School Region</th><th>School Code</th><th>School Phone Number</th><th>School Address</th><th>School City</th><th>School State</th><th>School Zip</th><th>School Not Found</th><th>School or Citywide Complaint</th></tr><tr><td>str</td><td>str</td><td>str</td><td>str</td><td>str</td><td>str</td><td>str</td><td>str</td><td>str</td><td>str</td><td>str</td><td>str</td></tr></thead><tbody><tr><td>&quot;10/31/2013 02:08:41 AM&quot;</td><td>&quot;Unspecified&quot;</td><td>&quot;Unspecified&quot;</td><td>&quot;Unspecified&quot;</td><td>&quot;Unspecified&quot;</td><td>&quot;Unspecified&quot;</td><td>&quot;Unspecified&quot;</td><td>&quot;Unspecified&quot;</td><td>&quot;Unspecified&quot;</td><td>&quot;Unspecified&quot;</td><td>&quot;N&quot;</td><td>null</td></tr><tr><td>&quot;10/31/2013 02:01:04 AM&quot;</td><td>&quot;Unspecified&quot;</td><td>&quot;Unspecified&quot;</td><td>&quot;Unspecified&quot;</td><td>&quot;Unspecified&quot;</td><td>&quot;Unspecified&quot;</td><td>&quot;Unspecified&quot;</td><td>&quot;Unspecified&quot;</td><td>&quot;Unspecified&quot;</td><td>&quot;Unspecified&quot;</td><td>&quot;N&quot;</td><td>null</td></tr><tr><td>&quot;10/31/2013 02:00:24 AM&quot;</td><td>&quot;Unspecified&quot;</td><td>&quot;Unspecified&quot;</td><td>&quot;Unspecified&quot;</td><td>&quot;Unspecified&quot;</td><td>&quot;Unspecified&quot;</td><td>&quot;Unspecified&quot;</td><td>&quot;Unspecified&quot;</td><td>&quot;Unspecified&quot;</td><td>&quot;Unspecified&quot;</td><td>&quot;N&quot;</td><td>null</td></tr><tr><td>&quot;10/31/2013 01:56:23 AM&quot;</td><td>&quot;Unspecified&quot;</td><td>&quot;Unspecified&quot;</td><td>&quot;Unspecified&quot;</td><td>&quot;Unspecified&quot;</td><td>&quot;Unspecified&quot;</td><td>&quot;Unspecified&quot;</td><td>&quot;Unspecified&quot;</td><td>&quot;Unspecified&quot;</td><td>&quot;Unspecified&quot;</td><td>&quot;N&quot;</td><td>null</td></tr><tr><td>&quot;10/31/2013 01:53:44 AM&quot;</td><td>&quot;Unspecified&quot;</td><td>&quot;Unspecified&quot;</td><td>&quot;Unspecified&quot;</td><td>&quot;Unspecified&quot;</td><td>&quot;Unspecified&quot;</td><td>&quot;Unspecified&quot;</td><td>&quot;Unspecified&quot;</td><td>&quot;Unspecified&quot;</td><td>&quot;Unspecified&quot;</td><td>&quot;N&quot;</td><td>null</td></tr></tbody></table></div>"
      ],
      "text/plain": [
       "shape: (5, 12)\n",
       "┌───────────┬───────────┬───────────┬───────────┬───┬───────────┬───────────┬───────────┬──────────┐\n",
       "│ Created   ┆ School    ┆ School    ┆ School    ┆ … ┆ School    ┆ School    ┆ School    ┆ School   │\n",
       "│ Date      ┆ Name      ┆ Number    ┆ Region    ┆   ┆ State     ┆ Zip       ┆ Not Found ┆ or       │\n",
       "│ ---       ┆ ---       ┆ ---       ┆ ---       ┆   ┆ ---       ┆ ---       ┆ ---       ┆ Citywide │\n",
       "│ str       ┆ str       ┆ str       ┆ str       ┆   ┆ str       ┆ str       ┆ str       ┆ Complain │\n",
       "│           ┆           ┆           ┆           ┆   ┆           ┆           ┆           ┆ t        │\n",
       "│           ┆           ┆           ┆           ┆   ┆           ┆           ┆           ┆ ---      │\n",
       "│           ┆           ┆           ┆           ┆   ┆           ┆           ┆           ┆ str      │\n",
       "╞═══════════╪═══════════╪═══════════╪═══════════╪═══╪═══════════╪═══════════╪═══════════╪══════════╡\n",
       "│ 10/31/201 ┆ Unspecifi ┆ Unspecifi ┆ Unspecifi ┆ … ┆ Unspecifi ┆ Unspecifi ┆ N         ┆ null     │\n",
       "│ 3         ┆ ed        ┆ ed        ┆ ed        ┆   ┆ ed        ┆ ed        ┆           ┆          │\n",
       "│ 02:08:41  ┆           ┆           ┆           ┆   ┆           ┆           ┆           ┆          │\n",
       "│ AM        ┆           ┆           ┆           ┆   ┆           ┆           ┆           ┆          │\n",
       "│ 10/31/201 ┆ Unspecifi ┆ Unspecifi ┆ Unspecifi ┆ … ┆ Unspecifi ┆ Unspecifi ┆ N         ┆ null     │\n",
       "│ 3         ┆ ed        ┆ ed        ┆ ed        ┆   ┆ ed        ┆ ed        ┆           ┆          │\n",
       "│ 02:01:04  ┆           ┆           ┆           ┆   ┆           ┆           ┆           ┆          │\n",
       "│ AM        ┆           ┆           ┆           ┆   ┆           ┆           ┆           ┆          │\n",
       "│ 10/31/201 ┆ Unspecifi ┆ Unspecifi ┆ Unspecifi ┆ … ┆ Unspecifi ┆ Unspecifi ┆ N         ┆ null     │\n",
       "│ 3         ┆ ed        ┆ ed        ┆ ed        ┆   ┆ ed        ┆ ed        ┆           ┆          │\n",
       "│ 02:00:24  ┆           ┆           ┆           ┆   ┆           ┆           ┆           ┆          │\n",
       "│ AM        ┆           ┆           ┆           ┆   ┆           ┆           ┆           ┆          │\n",
       "│ 10/31/201 ┆ Unspecifi ┆ Unspecifi ┆ Unspecifi ┆ … ┆ Unspecifi ┆ Unspecifi ┆ N         ┆ null     │\n",
       "│ 3         ┆ ed        ┆ ed        ┆ ed        ┆   ┆ ed        ┆ ed        ┆           ┆          │\n",
       "│ 01:56:23  ┆           ┆           ┆           ┆   ┆           ┆           ┆           ┆          │\n",
       "│ AM        ┆           ┆           ┆           ┆   ┆           ┆           ┆           ┆          │\n",
       "│ 10/31/201 ┆ Unspecifi ┆ Unspecifi ┆ Unspecifi ┆ … ┆ Unspecifi ┆ Unspecifi ┆ N         ┆ null     │\n",
       "│ 3         ┆ ed        ┆ ed        ┆ ed        ┆   ┆ ed        ┆ ed        ┆           ┆          │\n",
       "│ 01:53:44  ┆           ┆           ┆           ┆   ┆           ┆           ┆           ┆          │\n",
       "│ AM        ┆           ┆           ┆           ┆   ┆           ┆           ┆           ┆          │\n",
       "└───────────┴───────────┴───────────┴───────────┴───┴───────────┴───────────┴───────────┴──────────┘"
      ]
     },
     "execution_count": 7,
     "metadata": {},
     "output_type": "execute_result"
    }
   ],
   "source": [
    "complaints.select('Created Date', cs.contains('School')).head()"
   ]
  },
  {
   "attachments": {},
   "cell_type": "markdown",
   "metadata": {},
   "source": [
    "# 2.4 What's the most common complaint type?"
   ]
  },
  {
   "attachments": {},
   "cell_type": "markdown",
   "metadata": {},
   "source": [
    "This is a really easy question to answer! There's a `value_counts()` method that we can use:"
   ]
  },
  {
   "cell_type": "code",
   "execution_count": 8,
   "metadata": {},
   "outputs": [
    {
     "data": {
      "text/html": [
       "<div><style>\n",
       ".dataframe > thead > tr,\n",
       ".dataframe > tbody > tr {\n",
       "  text-align: right;\n",
       "  white-space: pre-wrap;\n",
       "}\n",
       "</style>\n",
       "<small>shape: (165, 2)</small><table border=\"1\" class=\"dataframe\"><thead><tr><th>Complaint Type</th><th>count</th></tr><tr><td>str</td><td>u32</td></tr></thead><tbody><tr><td>&quot;HEATING&quot;</td><td>14200</td></tr><tr><td>&quot;GENERAL CONSTRUCTION&quot;</td><td>7471</td></tr><tr><td>&quot;Street Light Condition&quot;</td><td>7117</td></tr><tr><td>&quot;DOF Literature Request&quot;</td><td>5797</td></tr><tr><td>&quot;PLUMBING&quot;</td><td>5373</td></tr><tr><td>&hellip;</td><td>&hellip;</td></tr><tr><td>&quot;Open Flame Permit&quot;</td><td>1</td></tr><tr><td>&quot;DWD&quot;</td><td>1</td></tr><tr><td>&quot;Highway Sign - Damaged&quot;</td><td>1</td></tr><tr><td>&quot;Ferry Permit&quot;</td><td>1</td></tr><tr><td>&quot;X-Ray Machine/Equipment&quot;</td><td>1</td></tr></tbody></table></div>"
      ],
      "text/plain": [
       "shape: (165, 2)\n",
       "┌─────────────────────────┬───────┐\n",
       "│ Complaint Type          ┆ count │\n",
       "│ ---                     ┆ ---   │\n",
       "│ str                     ┆ u32   │\n",
       "╞═════════════════════════╪═══════╡\n",
       "│ HEATING                 ┆ 14200 │\n",
       "│ GENERAL CONSTRUCTION    ┆ 7471  │\n",
       "│ Street Light Condition  ┆ 7117  │\n",
       "│ DOF Literature Request  ┆ 5797  │\n",
       "│ PLUMBING                ┆ 5373  │\n",
       "│ …                       ┆ …     │\n",
       "│ Open Flame Permit       ┆ 1     │\n",
       "│ DWD                     ┆ 1     │\n",
       "│ Highway Sign - Damaged  ┆ 1     │\n",
       "│ Ferry Permit            ┆ 1     │\n",
       "│ X-Ray Machine/Equipment ┆ 1     │\n",
       "└─────────────────────────┴───────┘"
      ]
     },
     "execution_count": 8,
     "metadata": {},
     "output_type": "execute_result"
    }
   ],
   "source": [
    "complaints['Complaint Type'].value_counts(sort=True)"
   ]
  },
  {
   "attachments": {},
   "cell_type": "markdown",
   "metadata": {},
   "source": [
    "If we just wanted the top 10 most common complaints, we can use the `top_k` function like so:"
   ]
  },
  {
   "cell_type": "code",
   "execution_count": 9,
   "metadata": {},
   "outputs": [
    {
     "data": {
      "text/html": [
       "<div><style>\n",
       ".dataframe > thead > tr,\n",
       ".dataframe > tbody > tr {\n",
       "  text-align: right;\n",
       "  white-space: pre-wrap;\n",
       "}\n",
       "</style>\n",
       "<small>shape: (10, 2)</small><table border=\"1\" class=\"dataframe\"><thead><tr><th>Complaint Type</th><th>count</th></tr><tr><td>str</td><td>u32</td></tr></thead><tbody><tr><td>&quot;HEATING&quot;</td><td>14200</td></tr><tr><td>&quot;GENERAL CONSTRUCTION&quot;</td><td>7471</td></tr><tr><td>&quot;Street Light Condition&quot;</td><td>7117</td></tr><tr><td>&quot;DOF Literature Request&quot;</td><td>5797</td></tr><tr><td>&quot;PLUMBING&quot;</td><td>5373</td></tr><tr><td>&quot;PAINT - PLASTER&quot;</td><td>5149</td></tr><tr><td>&quot;Blocked Driveway&quot;</td><td>4590</td></tr><tr><td>&quot;NONCONST&quot;</td><td>3998</td></tr><tr><td>&quot;Street Condition&quot;</td><td>3473</td></tr><tr><td>&quot;Illegal Parking&quot;</td><td>3343</td></tr></tbody></table></div>"
      ],
      "text/plain": [
       "shape: (10, 2)\n",
       "┌────────────────────────┬───────┐\n",
       "│ Complaint Type         ┆ count │\n",
       "│ ---                    ┆ ---   │\n",
       "│ str                    ┆ u32   │\n",
       "╞════════════════════════╪═══════╡\n",
       "│ HEATING                ┆ 14200 │\n",
       "│ GENERAL CONSTRUCTION   ┆ 7471  │\n",
       "│ Street Light Condition ┆ 7117  │\n",
       "│ DOF Literature Request ┆ 5797  │\n",
       "│ PLUMBING               ┆ 5373  │\n",
       "│ PAINT - PLASTER        ┆ 5149  │\n",
       "│ Blocked Driveway       ┆ 4590  │\n",
       "│ NONCONST               ┆ 3998  │\n",
       "│ Street Condition       ┆ 3473  │\n",
       "│ Illegal Parking        ┆ 3343  │\n",
       "└────────────────────────┴───────┘"
      ]
     },
     "execution_count": 9,
     "metadata": {},
     "output_type": "execute_result"
    }
   ],
   "source": [
    "complaint_counts = complaints['Complaint Type'].value_counts().top_k(10, by='count')\n",
    "complaint_counts"
   ]
  },
  {
   "attachments": {},
   "cell_type": "markdown",
   "metadata": {},
   "source": [
    "But it gets better! We can plot them!"
   ]
  },
  {
   "cell_type": "code",
   "execution_count": 10,
   "metadata": {},
   "outputs": [
    {
     "data": {
      "text/plain": [
       "<Axes: xlabel='Complaint Type', ylabel='count'>"
      ]
     },
     "execution_count": 10,
     "metadata": {},
     "output_type": "execute_result"
    },
    {
     "data": {
      "image/png": "[encoded data removed]",
      "text/plain": [
       "<Figure size 1500x500 with 1 Axes>"
      ]
     },
     "metadata": {},
     "output_type": "display_data"
    }
   ],
   "source": [
    "plt.xticks(rotation=45)\n",
    "sbn.barplot(complaint_counts, x='Complaint Type', y='count')"
   ]
  },
  {
   "attachments": {},
   "cell_type": "markdown",
   "metadata": {},
   "source": [
    "<style>\n",
    "    @font-face {\n",
    "        font-family: \"Computer Modern\";\n",
    "        src: url('http://mirrors.ctan.org/fonts/cm-unicode/fonts/otf/cmunss.otf');\n",
    "    }\n",
    "    div.cell{\n",
    "        width:800px;\n",
    "        margin-left:16% !important;\n",
    "        margin-right:auto;\n",
    "    }\n",
    "    h1 {\n",
    "        font-family: Helvetica, serif;\n",
    "    }\n",
    "    h4{\n",
    "        margin-top:12px;\n",
    "        margin-bottom: 3px;\n",
    "       }\n",
    "    div.text_cell_render{\n",
    "        font-family: Computer Modern, \"Helvetica Neue\", Arial, Helvetica, Geneva, sans-serif;\n",
    "        line-height: 145%;\n",
    "        font-size: 130%;\n",
    "        width:800px;\n",
    "        margin-left:auto;\n",
    "        margin-right:auto;\n",
    "    }\n",
    "    .CodeMirror{\n",
    "            font-family: \"Source Code Pro\", source-code-pro,Consolas, monospace;\n",
    "    }\n",
    "    .text_cell_render h5 {\n",
    "        font-weight: 300;\n",
    "        font-size: 22pt;\n",
    "        color: #4057A1;\n",
    "        font-style: italic;\n",
    "        margin-bottom: .5em;\n",
    "        margin-top: 0.5em;\n",
    "        display: block;\n",
    "    }\n",
    "    \n",
    "    .warning{\n",
    "        color: rgb( 240, 20, 20 )\n",
    "        }  "
   ]
  }
 ],
 "metadata": {
  "kernelspec": {
   "display_name": "Python 3 (ipykernel)",
   "language": "python",
   "name": "python3"
  },
  "language_info": {
   "codemirror_mode": {
    "name": "ipython",
    "version": 3
   },
   "file_extension": ".py",
   "mimetype": "text/x-python",
   "name": "python",
   "nbconvert_exporter": "python",
   "pygments_lexer": "ipython3",
   "version": "3.12.4"
  }
 },
 "nbformat": 4,
 "nbformat_minor": 4
}
