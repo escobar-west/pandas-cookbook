{
 "cells": [
  {
   "cell_type": "code",
   "execution_count": 1,
   "metadata": {},
   "outputs": [
    {
     "name": "stdout",
     "output_type": "stream",
     "text": [
      "1.6.0\n"
     ]
    }
   ],
   "source": [
    "import polars as pl\n",
    "import polars.selectors as cs\n",
    "print(pl.__version__)"
   ]
  },
  {
   "attachments": {},
   "cell_type": "markdown",
   "metadata": {},
   "source": [
    "One of the main problems with messy data is: how do you know if it's messy or not?\n",
    "\n",
    "We're going to use the NYC 311 service request dataset again here, since it's big and a bit unwieldy. If we try to read it in polars, we immediately run into an error. Polars cannot infer the data type of the data in the csv file:"
   ]
  },
  {
   "cell_type": "code",
   "execution_count": 2,
   "metadata": {
    "editable": true,
    "slideshow": {
     "slide_type": ""
    },
    "tags": [
     "raises-exception"
    ]
   },
   "outputs": [
    {
     "ename": "ComputeError",
     "evalue": "could not parse `11549-3650` as dtype `i64` at column 'Incident Zip' (column number 9)\n\nThe current offset in the file is 34985879 bytes.\n\nYou might want to try:\n- increasing `infer_schema_length` (e.g. `infer_schema_length=10000`),\n- specifying correct dtype with the `dtypes` argument\n- setting `ignore_errors` to `True`,\n- adding `11549-3650` to the `null_values` list.\n\nOriginal error: ```remaining bytes non-empty```",
     "output_type": "error",
     "traceback": [
      "\u001b[0;31m---------------------------------------------------------------------------\u001b[0m",
      "\u001b[0;31mComputeError\u001b[0m                              Traceback (most recent call last)",
      "Cell \u001b[0;32mIn[2], line 1\u001b[0m\n\u001b[0;32m----> 1\u001b[0m requests \u001b[38;5;241m=\u001b[39m pl\u001b[38;5;241m.\u001b[39mread_csv(\u001b[38;5;124m'\u001b[39m\u001b[38;5;124m../data/311-service-requests.csv\u001b[39m\u001b[38;5;124m'\u001b[39m)\n",
      "File \u001b[0;32m~/miniconda3/envs/pcb/lib/python3.12/site-packages/polars/_utils/deprecation.py:91\u001b[0m, in \u001b[0;36mdeprecate_renamed_parameter.<locals>.decorate.<locals>.wrapper\u001b[0;34m(*args, **kwargs)\u001b[0m\n\u001b[1;32m     86\u001b[0m \u001b[38;5;129m@wraps\u001b[39m(function)\n\u001b[1;32m     87\u001b[0m \u001b[38;5;28;01mdef\u001b[39;00m \u001b[38;5;21mwrapper\u001b[39m(\u001b[38;5;241m*\u001b[39margs: P\u001b[38;5;241m.\u001b[39margs, \u001b[38;5;241m*\u001b[39m\u001b[38;5;241m*\u001b[39mkwargs: P\u001b[38;5;241m.\u001b[39mkwargs) \u001b[38;5;241m-\u001b[39m\u001b[38;5;241m>\u001b[39m T:\n\u001b[1;32m     88\u001b[0m     _rename_keyword_argument(\n\u001b[1;32m     89\u001b[0m         old_name, new_name, kwargs, function\u001b[38;5;241m.\u001b[39m\u001b[38;5;18m__qualname__\u001b[39m, version\n\u001b[1;32m     90\u001b[0m     )\n\u001b[0;32m---> 91\u001b[0m     \u001b[38;5;28;01mreturn\u001b[39;00m function(\u001b[38;5;241m*\u001b[39margs, \u001b[38;5;241m*\u001b[39m\u001b[38;5;241m*\u001b[39mkwargs)\n",
      "File \u001b[0;32m~/miniconda3/envs/pcb/lib/python3.12/site-packages/polars/_utils/deprecation.py:91\u001b[0m, in \u001b[0;36mdeprecate_renamed_parameter.<locals>.decorate.<locals>.wrapper\u001b[0;34m(*args, **kwargs)\u001b[0m\n\u001b[1;32m     86\u001b[0m \u001b[38;5;129m@wraps\u001b[39m(function)\n\u001b[1;32m     87\u001b[0m \u001b[38;5;28;01mdef\u001b[39;00m \u001b[38;5;21mwrapper\u001b[39m(\u001b[38;5;241m*\u001b[39margs: P\u001b[38;5;241m.\u001b[39margs, \u001b[38;5;241m*\u001b[39m\u001b[38;5;241m*\u001b[39mkwargs: P\u001b[38;5;241m.\u001b[39mkwargs) \u001b[38;5;241m-\u001b[39m\u001b[38;5;241m>\u001b[39m T:\n\u001b[1;32m     88\u001b[0m     _rename_keyword_argument(\n\u001b[1;32m     89\u001b[0m         old_name, new_name, kwargs, function\u001b[38;5;241m.\u001b[39m\u001b[38;5;18m__qualname__\u001b[39m, version\n\u001b[1;32m     90\u001b[0m     )\n\u001b[0;32m---> 91\u001b[0m     \u001b[38;5;28;01mreturn\u001b[39;00m function(\u001b[38;5;241m*\u001b[39margs, \u001b[38;5;241m*\u001b[39m\u001b[38;5;241m*\u001b[39mkwargs)\n",
      "File \u001b[0;32m~/miniconda3/envs/pcb/lib/python3.12/site-packages/polars/_utils/deprecation.py:91\u001b[0m, in \u001b[0;36mdeprecate_renamed_parameter.<locals>.decorate.<locals>.wrapper\u001b[0;34m(*args, **kwargs)\u001b[0m\n\u001b[1;32m     86\u001b[0m \u001b[38;5;129m@wraps\u001b[39m(function)\n\u001b[1;32m     87\u001b[0m \u001b[38;5;28;01mdef\u001b[39;00m \u001b[38;5;21mwrapper\u001b[39m(\u001b[38;5;241m*\u001b[39margs: P\u001b[38;5;241m.\u001b[39margs, \u001b[38;5;241m*\u001b[39m\u001b[38;5;241m*\u001b[39mkwargs: P\u001b[38;5;241m.\u001b[39mkwargs) \u001b[38;5;241m-\u001b[39m\u001b[38;5;241m>\u001b[39m T:\n\u001b[1;32m     88\u001b[0m     _rename_keyword_argument(\n\u001b[1;32m     89\u001b[0m         old_name, new_name, kwargs, function\u001b[38;5;241m.\u001b[39m\u001b[38;5;18m__qualname__\u001b[39m, version\n\u001b[1;32m     90\u001b[0m     )\n\u001b[0;32m---> 91\u001b[0m     \u001b[38;5;28;01mreturn\u001b[39;00m function(\u001b[38;5;241m*\u001b[39margs, \u001b[38;5;241m*\u001b[39m\u001b[38;5;241m*\u001b[39mkwargs)\n",
      "File \u001b[0;32m~/miniconda3/envs/pcb/lib/python3.12/site-packages/polars/io/csv/functions.py:496\u001b[0m, in \u001b[0;36mread_csv\u001b[0;34m(source, has_header, columns, new_columns, separator, comment_prefix, quote_char, skip_rows, schema, schema_overrides, null_values, missing_utf8_is_empty_string, ignore_errors, try_parse_dates, n_threads, infer_schema, infer_schema_length, batch_size, n_rows, encoding, low_memory, rechunk, use_pyarrow, storage_options, skip_rows_after_header, row_index_name, row_index_offset, sample_size, eol_char, raise_if_empty, truncate_ragged_lines, decimal_comma, glob)\u001b[0m\n\u001b[1;32m    488\u001b[0m \u001b[38;5;28;01melse\u001b[39;00m:\n\u001b[1;32m    489\u001b[0m     \u001b[38;5;28;01mwith\u001b[39;00m prepare_file_arg(\n\u001b[1;32m    490\u001b[0m         source,\n\u001b[1;32m    491\u001b[0m         encoding\u001b[38;5;241m=\u001b[39mencoding,\n\u001b[0;32m   (...)\u001b[0m\n\u001b[1;32m    494\u001b[0m         storage_options\u001b[38;5;241m=\u001b[39mstorage_options,\n\u001b[1;32m    495\u001b[0m     ) \u001b[38;5;28;01mas\u001b[39;00m data:\n\u001b[0;32m--> 496\u001b[0m         df \u001b[38;5;241m=\u001b[39m _read_csv_impl(\n\u001b[1;32m    497\u001b[0m             data,\n\u001b[1;32m    498\u001b[0m             has_header\u001b[38;5;241m=\u001b[39mhas_header,\n\u001b[1;32m    499\u001b[0m             columns\u001b[38;5;241m=\u001b[39mcolumns \u001b[38;5;28;01mif\u001b[39;00m columns \u001b[38;5;28;01melse\u001b[39;00m projection,\n\u001b[1;32m    500\u001b[0m             separator\u001b[38;5;241m=\u001b[39mseparator,\n\u001b[1;32m    501\u001b[0m             comment_prefix\u001b[38;5;241m=\u001b[39mcomment_prefix,\n\u001b[1;32m    502\u001b[0m             quote_char\u001b[38;5;241m=\u001b[39mquote_char,\n\u001b[1;32m    503\u001b[0m             skip_rows\u001b[38;5;241m=\u001b[39mskip_rows,\n\u001b[1;32m    504\u001b[0m             schema_overrides\u001b[38;5;241m=\u001b[39mschema_overrides,\n\u001b[1;32m    505\u001b[0m             schema\u001b[38;5;241m=\u001b[39mschema,\n\u001b[1;32m    506\u001b[0m             null_values\u001b[38;5;241m=\u001b[39mnull_values,\n\u001b[1;32m    507\u001b[0m             missing_utf8_is_empty_string\u001b[38;5;241m=\u001b[39mmissing_utf8_is_empty_string,\n\u001b[1;32m    508\u001b[0m             ignore_errors\u001b[38;5;241m=\u001b[39mignore_errors,\n\u001b[1;32m    509\u001b[0m             try_parse_dates\u001b[38;5;241m=\u001b[39mtry_parse_dates,\n\u001b[1;32m    510\u001b[0m             n_threads\u001b[38;5;241m=\u001b[39mn_threads,\n\u001b[1;32m    511\u001b[0m             infer_schema_length\u001b[38;5;241m=\u001b[39minfer_schema_length,\n\u001b[1;32m    512\u001b[0m             batch_size\u001b[38;5;241m=\u001b[39mbatch_size,\n\u001b[1;32m    513\u001b[0m             n_rows\u001b[38;5;241m=\u001b[39mn_rows,\n\u001b[1;32m    514\u001b[0m             encoding\u001b[38;5;241m=\u001b[39mencoding \u001b[38;5;28;01mif\u001b[39;00m encoding \u001b[38;5;241m==\u001b[39m \u001b[38;5;124m\"\u001b[39m\u001b[38;5;124mutf8-lossy\u001b[39m\u001b[38;5;124m\"\u001b[39m \u001b[38;5;28;01melse\u001b[39;00m \u001b[38;5;124m\"\u001b[39m\u001b[38;5;124mutf8\u001b[39m\u001b[38;5;124m\"\u001b[39m,\n\u001b[1;32m    515\u001b[0m             low_memory\u001b[38;5;241m=\u001b[39mlow_memory,\n\u001b[1;32m    516\u001b[0m             rechunk\u001b[38;5;241m=\u001b[39mrechunk,\n\u001b[1;32m    517\u001b[0m             skip_rows_after_header\u001b[38;5;241m=\u001b[39mskip_rows_after_header,\n\u001b[1;32m    518\u001b[0m             row_index_name\u001b[38;5;241m=\u001b[39mrow_index_name,\n\u001b[1;32m    519\u001b[0m             row_index_offset\u001b[38;5;241m=\u001b[39mrow_index_offset,\n\u001b[1;32m    520\u001b[0m             sample_size\u001b[38;5;241m=\u001b[39msample_size,\n\u001b[1;32m    521\u001b[0m             eol_char\u001b[38;5;241m=\u001b[39meol_char,\n\u001b[1;32m    522\u001b[0m             raise_if_empty\u001b[38;5;241m=\u001b[39mraise_if_empty,\n\u001b[1;32m    523\u001b[0m             truncate_ragged_lines\u001b[38;5;241m=\u001b[39mtruncate_ragged_lines,\n\u001b[1;32m    524\u001b[0m             decimal_comma\u001b[38;5;241m=\u001b[39mdecimal_comma,\n\u001b[1;32m    525\u001b[0m             glob\u001b[38;5;241m=\u001b[39mglob,\n\u001b[1;32m    526\u001b[0m         )\n\u001b[1;32m    528\u001b[0m \u001b[38;5;28;01mif\u001b[39;00m new_columns:\n\u001b[1;32m    529\u001b[0m     \u001b[38;5;28;01mreturn\u001b[39;00m _update_columns(df, new_columns)\n",
      "File \u001b[0;32m~/miniconda3/envs/pcb/lib/python3.12/site-packages/polars/io/csv/functions.py:642\u001b[0m, in \u001b[0;36m_read_csv_impl\u001b[0;34m(source, has_header, columns, separator, comment_prefix, quote_char, skip_rows, schema, schema_overrides, null_values, missing_utf8_is_empty_string, ignore_errors, try_parse_dates, n_threads, infer_schema_length, batch_size, n_rows, encoding, low_memory, rechunk, skip_rows_after_header, row_index_name, row_index_offset, sample_size, eol_char, raise_if_empty, truncate_ragged_lines, decimal_comma, glob)\u001b[0m\n\u001b[1;32m    638\u001b[0m         \u001b[38;5;28;01mraise\u001b[39;00m \u001b[38;5;167;01mValueError\u001b[39;00m(msg)\n\u001b[1;32m    640\u001b[0m projection, columns \u001b[38;5;241m=\u001b[39m parse_columns_arg(columns)\n\u001b[0;32m--> 642\u001b[0m pydf \u001b[38;5;241m=\u001b[39m PyDataFrame\u001b[38;5;241m.\u001b[39mread_csv(\n\u001b[1;32m    643\u001b[0m     source,\n\u001b[1;32m    644\u001b[0m     infer_schema_length,\n\u001b[1;32m    645\u001b[0m     batch_size,\n\u001b[1;32m    646\u001b[0m     has_header,\n\u001b[1;32m    647\u001b[0m     ignore_errors,\n\u001b[1;32m    648\u001b[0m     n_rows,\n\u001b[1;32m    649\u001b[0m     skip_rows,\n\u001b[1;32m    650\u001b[0m     projection,\n\u001b[1;32m    651\u001b[0m     separator,\n\u001b[1;32m    652\u001b[0m     rechunk,\n\u001b[1;32m    653\u001b[0m     columns,\n\u001b[1;32m    654\u001b[0m     encoding,\n\u001b[1;32m    655\u001b[0m     n_threads,\n\u001b[1;32m    656\u001b[0m     path,\n\u001b[1;32m    657\u001b[0m     dtype_list,\n\u001b[1;32m    658\u001b[0m     dtype_slice,\n\u001b[1;32m    659\u001b[0m     low_memory,\n\u001b[1;32m    660\u001b[0m     comment_prefix,\n\u001b[1;32m    661\u001b[0m     quote_char,\n\u001b[1;32m    662\u001b[0m     processed_null_values,\n\u001b[1;32m    663\u001b[0m     missing_utf8_is_empty_string,\n\u001b[1;32m    664\u001b[0m     try_parse_dates,\n\u001b[1;32m    665\u001b[0m     skip_rows_after_header,\n\u001b[1;32m    666\u001b[0m     parse_row_index_args(row_index_name, row_index_offset),\n\u001b[1;32m    667\u001b[0m     sample_size\u001b[38;5;241m=\u001b[39msample_size,\n\u001b[1;32m    668\u001b[0m     eol_char\u001b[38;5;241m=\u001b[39meol_char,\n\u001b[1;32m    669\u001b[0m     raise_if_empty\u001b[38;5;241m=\u001b[39mraise_if_empty,\n\u001b[1;32m    670\u001b[0m     truncate_ragged_lines\u001b[38;5;241m=\u001b[39mtruncate_ragged_lines,\n\u001b[1;32m    671\u001b[0m     decimal_comma\u001b[38;5;241m=\u001b[39mdecimal_comma,\n\u001b[1;32m    672\u001b[0m     schema\u001b[38;5;241m=\u001b[39mschema,\n\u001b[1;32m    673\u001b[0m )\n\u001b[1;32m    674\u001b[0m \u001b[38;5;28;01mreturn\u001b[39;00m wrap_df(pydf)\n",
      "\u001b[0;31mComputeError\u001b[0m: could not parse `11549-3650` as dtype `i64` at column 'Incident Zip' (column number 9)\n\nThe current offset in the file is 34985879 bytes.\n\nYou might want to try:\n- increasing `infer_schema_length` (e.g. `infer_schema_length=10000`),\n- specifying correct dtype with the `dtypes` argument\n- setting `ignore_errors` to `True`,\n- adding `11549-3650` to the `null_values` list.\n\nOriginal error: ```remaining bytes non-empty```"
     ]
    }
   ],
   "source": [
    "requests = pl.read_csv('../data/311-service-requests.csv')"
   ]
  },
  {
   "attachments": {},
   "cell_type": "markdown",
   "metadata": {},
   "source": [
    "We can force polars to try harder to infer the data type by setting `infer_schema_length` to `None`. Looking at the schema below, I can see that `Incident Zip` was parsed as a `string`. That doesn't look right."
   ]
  },
  {
   "cell_type": "code",
   "execution_count": 3,
   "metadata": {},
   "outputs": [
    {
     "data": {
      "text/html": [
       "<div><style>\n",
       ".dataframe > thead > tr,\n",
       ".dataframe > tbody > tr {\n",
       "  text-align: right;\n",
       "  white-space: pre-wrap;\n",
       "}\n",
       "</style>\n",
       "<small>shape: (5, 52)</small><table border=\"1\" class=\"dataframe\"><thead><tr><th>Unique Key</th><th>Created Date</th><th>Closed Date</th><th>Agency</th><th>Agency Name</th><th>Complaint Type</th><th>Descriptor</th><th>Location Type</th><th>Incident Zip</th><th>Incident Address</th><th>Street Name</th><th>Cross Street 1</th><th>Cross Street 2</th><th>Intersection Street 1</th><th>Intersection Street 2</th><th>Address Type</th><th>City</th><th>Landmark</th><th>Facility Type</th><th>Status</th><th>Due Date</th><th>Resolution Action Updated Date</th><th>Community Board</th><th>Borough</th><th>X Coordinate (State Plane)</th><th>Y Coordinate (State Plane)</th><th>Park Facility Name</th><th>Park Borough</th><th>School Name</th><th>School Number</th><th>School Region</th><th>School Code</th><th>School Phone Number</th><th>School Address</th><th>School City</th><th>School State</th><th>School Zip</th><th>School Not Found</th><th>School or Citywide Complaint</th><th>Vehicle Type</th><th>Taxi Company Borough</th><th>Taxi Pick Up Location</th><th>Bridge Highway Name</th><th>Bridge Highway Direction</th><th>Road Ramp</th><th>Bridge Highway Segment</th><th>Garage Lot Name</th><th>Ferry Direction</th><th>Ferry Terminal Name</th><th>Latitude</th><th>Longitude</th><th>Location</th></tr><tr><td>i64</td><td>str</td><td>str</td><td>str</td><td>str</td><td>str</td><td>str</td><td>str</td><td>str</td><td>str</td><td>str</td><td>str</td><td>str</td><td>str</td><td>str</td><td>str</td><td>str</td><td>str</td><td>str</td><td>str</td><td>str</td><td>str</td><td>str</td><td>str</td><td>i64</td><td>i64</td><td>str</td><td>str</td><td>str</td><td>str</td><td>str</td><td>str</td><td>str</td><td>str</td><td>str</td><td>str</td><td>str</td><td>str</td><td>str</td><td>str</td><td>str</td><td>str</td><td>str</td><td>str</td><td>str</td><td>str</td><td>str</td><td>str</td><td>str</td><td>f64</td><td>f64</td><td>str</td></tr></thead><tbody><tr><td>26589651</td><td>&quot;10/31/2013 02:08:41 AM&quot;</td><td>null</td><td>&quot;NYPD&quot;</td><td>&quot;New York City Police Departmen…</td><td>&quot;Noise - Street/Sidewalk&quot;</td><td>&quot;Loud Talking&quot;</td><td>&quot;Street/Sidewalk&quot;</td><td>&quot;11432&quot;</td><td>&quot;90-03 169 STREET&quot;</td><td>&quot;169 STREET&quot;</td><td>&quot;90 AVENUE&quot;</td><td>&quot;91 AVENUE&quot;</td><td>null</td><td>null</td><td>&quot;ADDRESS&quot;</td><td>&quot;JAMAICA&quot;</td><td>null</td><td>&quot;Precinct&quot;</td><td>&quot;Assigned&quot;</td><td>&quot;10/31/2013 10:08:41 AM&quot;</td><td>&quot;10/31/2013 02:35:17 AM&quot;</td><td>&quot;12 QUEENS&quot;</td><td>&quot;QUEENS&quot;</td><td>1042027</td><td>197389</td><td>&quot;Unspecified&quot;</td><td>&quot;QUEENS&quot;</td><td>&quot;Unspecified&quot;</td><td>&quot;Unspecified&quot;</td><td>&quot;Unspecified&quot;</td><td>&quot;Unspecified&quot;</td><td>&quot;Unspecified&quot;</td><td>&quot;Unspecified&quot;</td><td>&quot;Unspecified&quot;</td><td>&quot;Unspecified&quot;</td><td>&quot;Unspecified&quot;</td><td>&quot;N&quot;</td><td>null</td><td>null</td><td>null</td><td>null</td><td>null</td><td>null</td><td>null</td><td>null</td><td>null</td><td>null</td><td>null</td><td>40.708275</td><td>-73.791604</td><td>&quot;(40.70827532593202, -73.791603…</td></tr><tr><td>26593698</td><td>&quot;10/31/2013 02:01:04 AM&quot;</td><td>null</td><td>&quot;NYPD&quot;</td><td>&quot;New York City Police Departmen…</td><td>&quot;Illegal Parking&quot;</td><td>&quot;Commercial Overnight Parking&quot;</td><td>&quot;Street/Sidewalk&quot;</td><td>&quot;11378&quot;</td><td>&quot;58 AVENUE&quot;</td><td>&quot;58 AVENUE&quot;</td><td>&quot;58 PLACE&quot;</td><td>&quot;59 STREET&quot;</td><td>null</td><td>null</td><td>&quot;BLOCKFACE&quot;</td><td>&quot;MASPETH&quot;</td><td>null</td><td>&quot;Precinct&quot;</td><td>&quot;Open&quot;</td><td>&quot;10/31/2013 10:01:04 AM&quot;</td><td>null</td><td>&quot;05 QUEENS&quot;</td><td>&quot;QUEENS&quot;</td><td>1009349</td><td>201984</td><td>&quot;Unspecified&quot;</td><td>&quot;QUEENS&quot;</td><td>&quot;Unspecified&quot;</td><td>&quot;Unspecified&quot;</td><td>&quot;Unspecified&quot;</td><td>&quot;Unspecified&quot;</td><td>&quot;Unspecified&quot;</td><td>&quot;Unspecified&quot;</td><td>&quot;Unspecified&quot;</td><td>&quot;Unspecified&quot;</td><td>&quot;Unspecified&quot;</td><td>&quot;N&quot;</td><td>null</td><td>null</td><td>null</td><td>null</td><td>null</td><td>null</td><td>null</td><td>null</td><td>null</td><td>null</td><td>null</td><td>40.721041</td><td>-73.909453</td><td>&quot;(40.721040535628305, -73.90945…</td></tr><tr><td>26594139</td><td>&quot;10/31/2013 02:00:24 AM&quot;</td><td>&quot;10/31/2013 02:40:32 AM&quot;</td><td>&quot;NYPD&quot;</td><td>&quot;New York City Police Departmen…</td><td>&quot;Noise - Commercial&quot;</td><td>&quot;Loud Music/Party&quot;</td><td>&quot;Club/Bar/Restaurant&quot;</td><td>&quot;10032&quot;</td><td>&quot;4060 BROADWAY&quot;</td><td>&quot;BROADWAY&quot;</td><td>&quot;WEST 171 STREET&quot;</td><td>&quot;WEST 172 STREET&quot;</td><td>null</td><td>null</td><td>&quot;ADDRESS&quot;</td><td>&quot;NEW YORK&quot;</td><td>null</td><td>&quot;Precinct&quot;</td><td>&quot;Closed&quot;</td><td>&quot;10/31/2013 10:00:24 AM&quot;</td><td>&quot;10/31/2013 02:39:42 AM&quot;</td><td>&quot;12 MANHATTAN&quot;</td><td>&quot;MANHATTAN&quot;</td><td>1001088</td><td>246531</td><td>&quot;Unspecified&quot;</td><td>&quot;MANHATTAN&quot;</td><td>&quot;Unspecified&quot;</td><td>&quot;Unspecified&quot;</td><td>&quot;Unspecified&quot;</td><td>&quot;Unspecified&quot;</td><td>&quot;Unspecified&quot;</td><td>&quot;Unspecified&quot;</td><td>&quot;Unspecified&quot;</td><td>&quot;Unspecified&quot;</td><td>&quot;Unspecified&quot;</td><td>&quot;N&quot;</td><td>null</td><td>null</td><td>null</td><td>null</td><td>null</td><td>null</td><td>null</td><td>null</td><td>null</td><td>null</td><td>null</td><td>40.84333</td><td>-73.939144</td><td>&quot;(40.84332975466513, -73.939143…</td></tr><tr><td>26595721</td><td>&quot;10/31/2013 01:56:23 AM&quot;</td><td>&quot;10/31/2013 02:21:48 AM&quot;</td><td>&quot;NYPD&quot;</td><td>&quot;New York City Police Departmen…</td><td>&quot;Noise - Vehicle&quot;</td><td>&quot;Car/Truck Horn&quot;</td><td>&quot;Street/Sidewalk&quot;</td><td>&quot;10023&quot;</td><td>&quot;WEST 72 STREET&quot;</td><td>&quot;WEST 72 STREET&quot;</td><td>&quot;COLUMBUS AVENUE&quot;</td><td>&quot;AMSTERDAM AVENUE&quot;</td><td>null</td><td>null</td><td>&quot;BLOCKFACE&quot;</td><td>&quot;NEW YORK&quot;</td><td>null</td><td>&quot;Precinct&quot;</td><td>&quot;Closed&quot;</td><td>&quot;10/31/2013 09:56:23 AM&quot;</td><td>&quot;10/31/2013 02:21:10 AM&quot;</td><td>&quot;07 MANHATTAN&quot;</td><td>&quot;MANHATTAN&quot;</td><td>989730</td><td>222727</td><td>&quot;Unspecified&quot;</td><td>&quot;MANHATTAN&quot;</td><td>&quot;Unspecified&quot;</td><td>&quot;Unspecified&quot;</td><td>&quot;Unspecified&quot;</td><td>&quot;Unspecified&quot;</td><td>&quot;Unspecified&quot;</td><td>&quot;Unspecified&quot;</td><td>&quot;Unspecified&quot;</td><td>&quot;Unspecified&quot;</td><td>&quot;Unspecified&quot;</td><td>&quot;N&quot;</td><td>null</td><td>null</td><td>null</td><td>null</td><td>null</td><td>null</td><td>null</td><td>null</td><td>null</td><td>null</td><td>null</td><td>40.778009</td><td>-73.980213</td><td>&quot;(40.7780087446372, -73.9802134…</td></tr><tr><td>26590930</td><td>&quot;10/31/2013 01:53:44 AM&quot;</td><td>null</td><td>&quot;DOHMH&quot;</td><td>&quot;Department of Health and Menta…</td><td>&quot;Rodent&quot;</td><td>&quot;Condition Attracting Rodents&quot;</td><td>&quot;Vacant Lot&quot;</td><td>&quot;10027&quot;</td><td>&quot;WEST 124 STREET&quot;</td><td>&quot;WEST 124 STREET&quot;</td><td>&quot;LENOX AVENUE&quot;</td><td>&quot;ADAM CLAYTON POWELL JR BOULEVA…</td><td>null</td><td>null</td><td>&quot;BLOCKFACE&quot;</td><td>&quot;NEW YORK&quot;</td><td>null</td><td>&quot;N/A&quot;</td><td>&quot;Pending&quot;</td><td>&quot;11/30/2013 01:53:44 AM&quot;</td><td>&quot;10/31/2013 01:59:54 AM&quot;</td><td>&quot;10 MANHATTAN&quot;</td><td>&quot;MANHATTAN&quot;</td><td>998815</td><td>233545</td><td>&quot;Unspecified&quot;</td><td>&quot;MANHATTAN&quot;</td><td>&quot;Unspecified&quot;</td><td>&quot;Unspecified&quot;</td><td>&quot;Unspecified&quot;</td><td>&quot;Unspecified&quot;</td><td>&quot;Unspecified&quot;</td><td>&quot;Unspecified&quot;</td><td>&quot;Unspecified&quot;</td><td>&quot;Unspecified&quot;</td><td>&quot;Unspecified&quot;</td><td>&quot;N&quot;</td><td>null</td><td>null</td><td>null</td><td>null</td><td>null</td><td>null</td><td>null</td><td>null</td><td>null</td><td>null</td><td>null</td><td>40.807691</td><td>-73.947387</td><td>&quot;(40.80769092704951, -73.947387…</td></tr></tbody></table></div>"
      ],
      "text/plain": [
       "shape: (5, 52)\n",
       "┌────────────┬────────────┬───────────┬────────┬───┬───────────┬───────────┬───────────┬───────────┐\n",
       "│ Unique Key ┆ Created    ┆ Closed    ┆ Agency ┆ … ┆ Ferry     ┆ Latitude  ┆ Longitude ┆ Location  │\n",
       "│ ---        ┆ Date       ┆ Date      ┆ ---    ┆   ┆ Terminal  ┆ ---       ┆ ---       ┆ ---       │\n",
       "│ i64        ┆ ---        ┆ ---       ┆ str    ┆   ┆ Name      ┆ f64       ┆ f64       ┆ str       │\n",
       "│            ┆ str        ┆ str       ┆        ┆   ┆ ---       ┆           ┆           ┆           │\n",
       "│            ┆            ┆           ┆        ┆   ┆ str       ┆           ┆           ┆           │\n",
       "╞════════════╪════════════╪═══════════╪════════╪═══╪═══════════╪═══════════╪═══════════╪═══════════╡\n",
       "│ 26589651   ┆ 10/31/2013 ┆ null      ┆ NYPD   ┆ … ┆ null      ┆ 40.708275 ┆ -73.79160 ┆ (40.70827 │\n",
       "│            ┆ 02:08:41   ┆           ┆        ┆   ┆           ┆           ┆ 4         ┆ 532593202 │\n",
       "│            ┆ AM         ┆           ┆        ┆   ┆           ┆           ┆           ┆ , -73.791 │\n",
       "│            ┆            ┆           ┆        ┆   ┆           ┆           ┆           ┆ 603…      │\n",
       "│ 26593698   ┆ 10/31/2013 ┆ null      ┆ NYPD   ┆ … ┆ null      ┆ 40.721041 ┆ -73.90945 ┆ (40.72104 │\n",
       "│            ┆ 02:01:04   ┆           ┆        ┆   ┆           ┆           ┆ 3         ┆ 053562830 │\n",
       "│            ┆ AM         ┆           ┆        ┆   ┆           ┆           ┆           ┆ 5, -73.90 │\n",
       "│            ┆            ┆           ┆        ┆   ┆           ┆           ┆           ┆ 945…      │\n",
       "│ 26594139   ┆ 10/31/2013 ┆ 10/31/201 ┆ NYPD   ┆ … ┆ null      ┆ 40.84333  ┆ -73.93914 ┆ (40.84332 │\n",
       "│            ┆ 02:00:24   ┆ 3         ┆        ┆   ┆           ┆           ┆ 4         ┆ 975466513 │\n",
       "│            ┆ AM         ┆ 02:40:32  ┆        ┆   ┆           ┆           ┆           ┆ , -73.939 │\n",
       "│            ┆            ┆ AM        ┆        ┆   ┆           ┆           ┆           ┆ 143…      │\n",
       "│ 26595721   ┆ 10/31/2013 ┆ 10/31/201 ┆ NYPD   ┆ … ┆ null      ┆ 40.778009 ┆ -73.98021 ┆ (40.77800 │\n",
       "│            ┆ 01:56:23   ┆ 3         ┆        ┆   ┆           ┆           ┆ 3         ┆ 87446372, │\n",
       "│            ┆ AM         ┆ 02:21:48  ┆        ┆   ┆           ┆           ┆           ┆ -73.98021 │\n",
       "│            ┆            ┆ AM        ┆        ┆   ┆           ┆           ┆           ┆ 34…       │\n",
       "│ 26590930   ┆ 10/31/2013 ┆ null      ┆ DOHMH  ┆ … ┆ null      ┆ 40.807691 ┆ -73.94738 ┆ (40.80769 │\n",
       "│            ┆ 01:53:44   ┆           ┆        ┆   ┆           ┆           ┆ 7         ┆ 092704951 │\n",
       "│            ┆ AM         ┆           ┆        ┆   ┆           ┆           ┆           ┆ , -73.947 │\n",
       "│            ┆            ┆           ┆        ┆   ┆           ┆           ┆           ┆ 387…      │\n",
       "└────────────┴────────────┴───────────┴────────┴───┴───────────┴───────────┴───────────┴───────────┘"
      ]
     },
     "metadata": {},
     "output_type": "display_data"
    },
    {
     "data": {
      "text/plain": [
       "Schema([('Unique Key', Int64),\n",
       "        ('Created Date', String),\n",
       "        ('Closed Date', String),\n",
       "        ('Agency', String),\n",
       "        ('Agency Name', String),\n",
       "        ('Complaint Type', String),\n",
       "        ('Descriptor', String),\n",
       "        ('Location Type', String),\n",
       "        ('Incident Zip', String),\n",
       "        ('Incident Address', String),\n",
       "        ('Street Name', String),\n",
       "        ('Cross Street 1', String),\n",
       "        ('Cross Street 2', String),\n",
       "        ('Intersection Street 1', String),\n",
       "        ('Intersection Street 2', String),\n",
       "        ('Address Type', String),\n",
       "        ('City', String),\n",
       "        ('Landmark', String),\n",
       "        ('Facility Type', String),\n",
       "        ('Status', String),\n",
       "        ('Due Date', String),\n",
       "        ('Resolution Action Updated Date', String),\n",
       "        ('Community Board', String),\n",
       "        ('Borough', String),\n",
       "        ('X Coordinate (State Plane)', Int64),\n",
       "        ('Y Coordinate (State Plane)', Int64),\n",
       "        ('Park Facility Name', String),\n",
       "        ('Park Borough', String),\n",
       "        ('School Name', String),\n",
       "        ('School Number', String),\n",
       "        ('School Region', String),\n",
       "        ('School Code', String),\n",
       "        ('School Phone Number', String),\n",
       "        ('School Address', String),\n",
       "        ('School City', String),\n",
       "        ('School State', String),\n",
       "        ('School Zip', String),\n",
       "        ('School Not Found', String),\n",
       "        ('School or Citywide Complaint', String),\n",
       "        ('Vehicle Type', String),\n",
       "        ('Taxi Company Borough', String),\n",
       "        ('Taxi Pick Up Location', String),\n",
       "        ('Bridge Highway Name', String),\n",
       "        ('Bridge Highway Direction', String),\n",
       "        ('Road Ramp', String),\n",
       "        ('Bridge Highway Segment', String),\n",
       "        ('Garage Lot Name', String),\n",
       "        ('Ferry Direction', String),\n",
       "        ('Ferry Terminal Name', String),\n",
       "        ('Latitude', Float64),\n",
       "        ('Longitude', Float64),\n",
       "        ('Location', String)])"
      ]
     },
     "metadata": {},
     "output_type": "display_data"
    }
   ],
   "source": [
    "requests = pl.read_csv('../data/311-service-requests.csv', infer_schema_length=None)\n",
    "display(requests.head())\n",
    "display(requests.schema)"
   ]
  },
  {
   "attachments": {},
   "cell_type": "markdown",
   "metadata": {},
   "source": [
    "# 7.1 How do we know if it's messy? "
   ]
  },
  {
   "attachments": {},
   "cell_type": "markdown",
   "metadata": {},
   "source": [
    "We're going to look at a few columns here. I know already that there are some problems with the zip code, so let's look at that first.\n",
    " \n",
    "To get a sense for whether a column has problems, I usually use `.unique()` to look at all its values. If it's a numeric column, I'll instead plot a histogram to get a sense of the distribution.\n",
    "\n",
    "When we look at the unique values in \"Incident Zip\", it quickly becomes clear that this is a mess.\n",
    "\n",
    "Some of the problems:\n",
    "\n",
    "* Some have been parsed as strings, and some as floats\n",
    "* There are `nan`s \n",
    "* Some of the zip codes are `29616-0759` or `83`\n",
    "* There are some N/A values that polars didn't recognize, like 'N/A' and 'NO CLUE'\n",
    "\n",
    "What we can do:\n",
    "\n",
    "* Normalize 'N/A' and 'NO CLUE' into regular nan values\n",
    "* Look at what's up with the 83, and decide what to do\n",
    "* Make everything strings"
   ]
  },
  {
   "cell_type": "code",
   "execution_count": 4,
   "metadata": {},
   "outputs": [
    {
     "data": {
      "text/html": [
       "<div><style>\n",
       ".dataframe > thead > tr,\n",
       ".dataframe > tbody > tr {\n",
       "  text-align: right;\n",
       "  white-space: pre-wrap;\n",
       "}\n",
       "</style>\n",
       "<small>shape: (251,)</small><table border=\"1\" class=\"dataframe\"><thead><tr><th>Incident Zip</th></tr><tr><td>str</td></tr></thead><tbody><tr><td>null</td></tr><tr><td>&quot;00000&quot;</td></tr><tr><td>&quot;000000&quot;</td></tr><tr><td>&quot;00083&quot;</td></tr><tr><td>&quot;02061&quot;</td></tr><tr><td>&hellip;</td></tr><tr><td>&quot;90010&quot;</td></tr><tr><td>&quot;92123&quot;</td></tr><tr><td>&quot;N/A&quot;</td></tr><tr><td>&quot;NA&quot;</td></tr><tr><td>&quot;NO CLUE&quot;</td></tr></tbody></table></div>"
      ],
      "text/plain": [
       "shape: (251,)\n",
       "Series: 'Incident Zip' [str]\n",
       "[\n",
       "\tnull\n",
       "\t\"00000\"\n",
       "\t\"000000\"\n",
       "\t\"00083\"\n",
       "\t\"02061\"\n",
       "\t…\n",
       "\t\"90010\"\n",
       "\t\"92123\"\n",
       "\t\"N/A\"\n",
       "\t\"NA\"\n",
       "\t\"NO CLUE\"\n",
       "]"
      ]
     },
     "execution_count": 4,
     "metadata": {},
     "output_type": "execute_result"
    }
   ],
   "source": [
    "requests['Incident Zip'].unique().sort()"
   ]
  },
  {
   "attachments": {},
   "cell_type": "markdown",
   "metadata": {},
   "source": [
    "# 7.2 Fixing the null_values and string/float confusion"
   ]
  },
  {
   "attachments": {},
   "cell_type": "markdown",
   "metadata": {},
   "source": [
    "We can pass a `null_values` option to `pl.read_csv` to clean this up a little bit. We can also specify that the type of Incident Zip is a string, not a float."
   ]
  },
  {
   "cell_type": "code",
   "execution_count": 5,
   "metadata": {},
   "outputs": [
    {
     "name": "stderr",
     "output_type": "stream",
     "text": [
      "/var/folders/sz/c22f1dwn4pz41534xrybbydc0000gn/T/ipykernel_26170/480128266.py:2: DeprecationWarning: The argument `dtypes` for `read_csv` is deprecated. It has been renamed to `schema_overrides`.\n",
      "  requests = pl.read_csv('../data/311-service-requests.csv', null_values=null_values, dtypes={'Incident Zip':pl.String})\n"
     ]
    },
    {
     "data": {
      "text/html": [
       "<div><style>\n",
       ".dataframe > thead > tr,\n",
       ".dataframe > tbody > tr {\n",
       "  text-align: right;\n",
       "  white-space: pre-wrap;\n",
       "}\n",
       "</style>\n",
       "<small>shape: (248,)</small><table border=\"1\" class=\"dataframe\"><thead><tr><th>Incident Zip</th></tr><tr><td>str</td></tr></thead><tbody><tr><td>null</td></tr><tr><td>&quot;00000&quot;</td></tr><tr><td>&quot;000000&quot;</td></tr><tr><td>&quot;00083&quot;</td></tr><tr><td>&quot;02061&quot;</td></tr><tr><td>&hellip;</td></tr><tr><td>&quot;70711&quot;</td></tr><tr><td>&quot;77056&quot;</td></tr><tr><td>&quot;77092-2016&quot;</td></tr><tr><td>&quot;90010&quot;</td></tr><tr><td>&quot;92123&quot;</td></tr></tbody></table></div>"
      ],
      "text/plain": [
       "shape: (248,)\n",
       "Series: 'Incident Zip' [str]\n",
       "[\n",
       "\tnull\n",
       "\t\"00000\"\n",
       "\t\"000000\"\n",
       "\t\"00083\"\n",
       "\t\"02061\"\n",
       "\t…\n",
       "\t\"70711\"\n",
       "\t\"77056\"\n",
       "\t\"77092-2016\"\n",
       "\t\"90010\"\n",
       "\t\"92123\"\n",
       "]"
      ]
     },
     "execution_count": 5,
     "metadata": {},
     "output_type": "execute_result"
    }
   ],
   "source": [
    "null_values = ['NO CLUE', 'N/A', '0', 'NA']\n",
    "requests = pl.read_csv('../data/311-service-requests.csv', null_values=null_values, dtypes={'Incident Zip':pl.String})\n",
    "requests['Incident Zip'].unique().sort()"
   ]
  },
  {
   "attachments": {},
   "cell_type": "markdown",
   "metadata": {},
   "source": [
    "# 7.3 What's up with the dashes?"
   ]
  },
  {
   "cell_type": "code",
   "execution_count": 6,
   "metadata": {},
   "outputs": [
    {
     "name": "stdout",
     "output_type": "stream",
     "text": [
      "number of zip codes with dashes:  5\n"
     ]
    },
    {
     "data": {
      "text/html": [
       "<div><style>\n",
       ".dataframe > thead > tr,\n",
       ".dataframe > tbody > tr {\n",
       "  text-align: right;\n",
       "  white-space: pre-wrap;\n",
       "}\n",
       "</style>\n",
       "<small>shape: (5, 52)</small><table border=\"1\" class=\"dataframe\"><thead><tr><th>Unique Key</th><th>Created Date</th><th>Closed Date</th><th>Agency</th><th>Agency Name</th><th>Complaint Type</th><th>Descriptor</th><th>Location Type</th><th>Incident Zip</th><th>Incident Address</th><th>Street Name</th><th>Cross Street 1</th><th>Cross Street 2</th><th>Intersection Street 1</th><th>Intersection Street 2</th><th>Address Type</th><th>City</th><th>Landmark</th><th>Facility Type</th><th>Status</th><th>Due Date</th><th>Resolution Action Updated Date</th><th>Community Board</th><th>Borough</th><th>X Coordinate (State Plane)</th><th>Y Coordinate (State Plane)</th><th>Park Facility Name</th><th>Park Borough</th><th>School Name</th><th>School Number</th><th>School Region</th><th>School Code</th><th>School Phone Number</th><th>School Address</th><th>School City</th><th>School State</th><th>School Zip</th><th>School Not Found</th><th>School or Citywide Complaint</th><th>Vehicle Type</th><th>Taxi Company Borough</th><th>Taxi Pick Up Location</th><th>Bridge Highway Name</th><th>Bridge Highway Direction</th><th>Road Ramp</th><th>Bridge Highway Segment</th><th>Garage Lot Name</th><th>Ferry Direction</th><th>Ferry Terminal Name</th><th>Latitude</th><th>Longitude</th><th>Location</th></tr><tr><td>i64</td><td>str</td><td>str</td><td>str</td><td>str</td><td>str</td><td>str</td><td>str</td><td>str</td><td>str</td><td>str</td><td>str</td><td>str</td><td>str</td><td>str</td><td>str</td><td>str</td><td>str</td><td>str</td><td>str</td><td>str</td><td>str</td><td>str</td><td>str</td><td>i64</td><td>i64</td><td>str</td><td>str</td><td>str</td><td>str</td><td>str</td><td>str</td><td>str</td><td>str</td><td>str</td><td>str</td><td>str</td><td>str</td><td>str</td><td>str</td><td>str</td><td>str</td><td>str</td><td>str</td><td>str</td><td>str</td><td>str</td><td>str</td><td>str</td><td>f64</td><td>f64</td><td>str</td></tr></thead><tbody><tr><td>26550551</td><td>&quot;10/24/2013 06:16:34 PM&quot;</td><td>null</td><td>&quot;DCA&quot;</td><td>&quot;Department of Consumer Affairs&quot;</td><td>&quot;Consumer Complaint&quot;</td><td>&quot;False Advertising&quot;</td><td>null</td><td>&quot;77092-2016&quot;</td><td>&quot;2700 EAST SELTICE WAY&quot;</td><td>&quot;EAST SELTICE WAY&quot;</td><td>null</td><td>null</td><td>null</td><td>null</td><td>null</td><td>&quot;HOUSTON&quot;</td><td>null</td><td>null</td><td>&quot;Assigned&quot;</td><td>&quot;11/13/2013 11:15:20 AM&quot;</td><td>&quot;10/29/2013 11:16:16 AM&quot;</td><td>&quot;0 Unspecified&quot;</td><td>&quot;Unspecified&quot;</td><td>null</td><td>null</td><td>&quot;Unspecified&quot;</td><td>&quot;Unspecified&quot;</td><td>&quot;Unspecified&quot;</td><td>&quot;Unspecified&quot;</td><td>&quot;Unspecified&quot;</td><td>&quot;Unspecified&quot;</td><td>&quot;Unspecified&quot;</td><td>&quot;Unspecified&quot;</td><td>&quot;Unspecified&quot;</td><td>&quot;Unspecified&quot;</td><td>&quot;Unspecified&quot;</td><td>&quot;N&quot;</td><td>null</td><td>null</td><td>null</td><td>null</td><td>null</td><td>null</td><td>null</td><td>null</td><td>null</td><td>null</td><td>null</td><td>null</td><td>null</td><td>null</td></tr><tr><td>26548831</td><td>&quot;10/24/2013 09:35:10 AM&quot;</td><td>null</td><td>&quot;DCA&quot;</td><td>&quot;Department of Consumer Affairs&quot;</td><td>&quot;Consumer Complaint&quot;</td><td>&quot;Harassment&quot;</td><td>null</td><td>&quot;55164-0737&quot;</td><td>&quot;P.O. BOX 64437&quot;</td><td>&quot;64437&quot;</td><td>null</td><td>null</td><td>null</td><td>null</td><td>null</td><td>&quot;ST. PAUL&quot;</td><td>null</td><td>null</td><td>&quot;Assigned&quot;</td><td>&quot;11/13/2013 02:30:21 PM&quot;</td><td>&quot;10/29/2013 02:31:06 PM&quot;</td><td>&quot;0 Unspecified&quot;</td><td>&quot;Unspecified&quot;</td><td>null</td><td>null</td><td>&quot;Unspecified&quot;</td><td>&quot;Unspecified&quot;</td><td>&quot;Unspecified&quot;</td><td>&quot;Unspecified&quot;</td><td>&quot;Unspecified&quot;</td><td>&quot;Unspecified&quot;</td><td>&quot;Unspecified&quot;</td><td>&quot;Unspecified&quot;</td><td>&quot;Unspecified&quot;</td><td>&quot;Unspecified&quot;</td><td>&quot;Unspecified&quot;</td><td>&quot;N&quot;</td><td>null</td><td>null</td><td>null</td><td>null</td><td>null</td><td>null</td><td>null</td><td>null</td><td>null</td><td>null</td><td>null</td><td>null</td><td>null</td><td>null</td></tr><tr><td>26488417</td><td>&quot;10/15/2013 03:40:33 PM&quot;</td><td>null</td><td>&quot;TLC&quot;</td><td>&quot;Taxi and Limousine Commission&quot;</td><td>&quot;Taxi Complaint&quot;</td><td>&quot;Driver Complaint&quot;</td><td>&quot;Street&quot;</td><td>&quot;11549-3650&quot;</td><td>&quot;365 HOFSTRA UNIVERSITY&quot;</td><td>&quot;HOFSTRA UNIVERSITY&quot;</td><td>null</td><td>null</td><td>null</td><td>null</td><td>null</td><td>&quot;HEMSTEAD&quot;</td><td>null</td><td>null</td><td>&quot;Assigned&quot;</td><td>&quot;11/30/2013 01:20:33 PM&quot;</td><td>&quot;10/16/2013 01:21:39 PM&quot;</td><td>&quot;0 Unspecified&quot;</td><td>&quot;Unspecified&quot;</td><td>null</td><td>null</td><td>&quot;Unspecified&quot;</td><td>&quot;Unspecified&quot;</td><td>&quot;Unspecified&quot;</td><td>&quot;Unspecified&quot;</td><td>&quot;Unspecified&quot;</td><td>&quot;Unspecified&quot;</td><td>&quot;Unspecified&quot;</td><td>&quot;Unspecified&quot;</td><td>&quot;Unspecified&quot;</td><td>&quot;Unspecified&quot;</td><td>&quot;Unspecified&quot;</td><td>&quot;N&quot;</td><td>null</td><td>null</td><td>null</td><td>&quot;La Guardia Airport&quot;</td><td>null</td><td>null</td><td>null</td><td>null</td><td>null</td><td>null</td><td>null</td><td>null</td><td>null</td><td>null</td></tr><tr><td>26468296</td><td>&quot;10/10/2013 12:36:43 PM&quot;</td><td>&quot;10/26/2013 01:07:07 AM&quot;</td><td>&quot;DCA&quot;</td><td>&quot;Department of Consumer Affairs&quot;</td><td>&quot;Consumer Complaint&quot;</td><td>&quot;Debt Not Owed&quot;</td><td>null</td><td>&quot;29616-0759&quot;</td><td>&quot;PO BOX 25759&quot;</td><td>&quot;BOX 25759&quot;</td><td>null</td><td>null</td><td>null</td><td>null</td><td>null</td><td>&quot;GREENVILLE&quot;</td><td>null</td><td>null</td><td>&quot;Closed&quot;</td><td>&quot;10/26/2013 09:20:28 AM&quot;</td><td>&quot;10/26/2013 01:07:07 AM&quot;</td><td>&quot;0 Unspecified&quot;</td><td>&quot;Unspecified&quot;</td><td>null</td><td>null</td><td>&quot;Unspecified&quot;</td><td>&quot;Unspecified&quot;</td><td>&quot;Unspecified&quot;</td><td>&quot;Unspecified&quot;</td><td>&quot;Unspecified&quot;</td><td>&quot;Unspecified&quot;</td><td>&quot;Unspecified&quot;</td><td>&quot;Unspecified&quot;</td><td>&quot;Unspecified&quot;</td><td>&quot;Unspecified&quot;</td><td>&quot;Unspecified&quot;</td><td>&quot;N&quot;</td><td>null</td><td>null</td><td>null</td><td>null</td><td>null</td><td>null</td><td>null</td><td>null</td><td>null</td><td>null</td><td>null</td><td>null</td><td>null</td><td>null</td></tr><tr><td>26461137</td><td>&quot;10/09/2013 05:23:46 PM&quot;</td><td>&quot;10/25/2013 01:06:41 AM&quot;</td><td>&quot;DCA&quot;</td><td>&quot;Department of Consumer Affairs&quot;</td><td>&quot;Consumer Complaint&quot;</td><td>&quot;Harassment&quot;</td><td>null</td><td>&quot;35209-3114&quot;</td><td>&quot;600 BEACON PKWY&quot;</td><td>&quot;BEACON PKWY&quot;</td><td>null</td><td>null</td><td>null</td><td>null</td><td>null</td><td>&quot;BIRMINGHAM&quot;</td><td>null</td><td>null</td><td>&quot;Closed&quot;</td><td>&quot;10/25/2013 02:43:42 PM&quot;</td><td>&quot;10/25/2013 01:06:41 AM&quot;</td><td>&quot;0 Unspecified&quot;</td><td>&quot;Unspecified&quot;</td><td>null</td><td>null</td><td>&quot;Unspecified&quot;</td><td>&quot;Unspecified&quot;</td><td>&quot;Unspecified&quot;</td><td>&quot;Unspecified&quot;</td><td>&quot;Unspecified&quot;</td><td>&quot;Unspecified&quot;</td><td>&quot;Unspecified&quot;</td><td>&quot;Unspecified&quot;</td><td>&quot;Unspecified&quot;</td><td>&quot;Unspecified&quot;</td><td>&quot;Unspecified&quot;</td><td>&quot;N&quot;</td><td>null</td><td>null</td><td>null</td><td>null</td><td>null</td><td>null</td><td>null</td><td>null</td><td>null</td><td>null</td><td>null</td><td>null</td><td>null</td><td>null</td></tr></tbody></table></div>"
      ],
      "text/plain": [
       "shape: (5, 52)\n",
       "┌────────────┬────────────┬────────────┬────────┬───┬────────────┬──────────┬───────────┬──────────┐\n",
       "│ Unique Key ┆ Created    ┆ Closed     ┆ Agency ┆ … ┆ Ferry      ┆ Latitude ┆ Longitude ┆ Location │\n",
       "│ ---        ┆ Date       ┆ Date       ┆ ---    ┆   ┆ Terminal   ┆ ---      ┆ ---       ┆ ---      │\n",
       "│ i64        ┆ ---        ┆ ---        ┆ str    ┆   ┆ Name       ┆ f64      ┆ f64       ┆ str      │\n",
       "│            ┆ str        ┆ str        ┆        ┆   ┆ ---        ┆          ┆           ┆          │\n",
       "│            ┆            ┆            ┆        ┆   ┆ str        ┆          ┆           ┆          │\n",
       "╞════════════╪════════════╪════════════╪════════╪═══╪════════════╪══════════╪═══════════╪══════════╡\n",
       "│ 26550551   ┆ 10/24/2013 ┆ null       ┆ DCA    ┆ … ┆ null       ┆ null     ┆ null      ┆ null     │\n",
       "│            ┆ 06:16:34   ┆            ┆        ┆   ┆            ┆          ┆           ┆          │\n",
       "│            ┆ PM         ┆            ┆        ┆   ┆            ┆          ┆           ┆          │\n",
       "│ 26548831   ┆ 10/24/2013 ┆ null       ┆ DCA    ┆ … ┆ null       ┆ null     ┆ null      ┆ null     │\n",
       "│            ┆ 09:35:10   ┆            ┆        ┆   ┆            ┆          ┆           ┆          │\n",
       "│            ┆ AM         ┆            ┆        ┆   ┆            ┆          ┆           ┆          │\n",
       "│ 26488417   ┆ 10/15/2013 ┆ null       ┆ TLC    ┆ … ┆ null       ┆ null     ┆ null      ┆ null     │\n",
       "│            ┆ 03:40:33   ┆            ┆        ┆   ┆            ┆          ┆           ┆          │\n",
       "│            ┆ PM         ┆            ┆        ┆   ┆            ┆          ┆           ┆          │\n",
       "│ 26468296   ┆ 10/10/2013 ┆ 10/26/2013 ┆ DCA    ┆ … ┆ null       ┆ null     ┆ null      ┆ null     │\n",
       "│            ┆ 12:36:43   ┆ 01:07:07   ┆        ┆   ┆            ┆          ┆           ┆          │\n",
       "│            ┆ PM         ┆ AM         ┆        ┆   ┆            ┆          ┆           ┆          │\n",
       "│ 26461137   ┆ 10/09/2013 ┆ 10/25/2013 ┆ DCA    ┆ … ┆ null       ┆ null     ┆ null      ┆ null     │\n",
       "│            ┆ 05:23:46   ┆ 01:06:41   ┆        ┆   ┆            ┆          ┆           ┆          │\n",
       "│            ┆ PM         ┆ AM         ┆        ┆   ┆            ┆          ┆           ┆          │\n",
       "└────────────┴────────────┴────────────┴────────┴───┴────────────┴──────────┴───────────┴──────────┘"
      ]
     },
     "execution_count": 6,
     "metadata": {},
     "output_type": "execute_result"
    }
   ],
   "source": [
    "rows_with_dashes = requests.filter(\n",
    "    pl.col('Incident Zip').str.contains('-')\n",
    ")\n",
    "print('number of zip codes with dashes: ', rows_with_dashes.height)\n",
    "rows_with_dashes.head()"
   ]
  },
  {
   "attachments": {},
   "cell_type": "markdown",
   "metadata": {},
   "source": [
    "I thought these were missing data and originally deleted them. But then my friend Dave pointed out that 9-digit zip codes are normal. Let's look at all the zip codes with more than 5 digits, make sure they're okay, and then truncate them."
   ]
  },
  {
   "cell_type": "code",
   "execution_count": 7,
   "metadata": {},
   "outputs": [
    {
     "data": {
      "text/html": [
       "<div><style>\n",
       ".dataframe > thead > tr,\n",
       ".dataframe > tbody > tr {\n",
       "  text-align: right;\n",
       "  white-space: pre-wrap;\n",
       "}\n",
       "</style>\n",
       "<small>shape: (5,)</small><table border=\"1\" class=\"dataframe\"><thead><tr><th>Incident Zip</th></tr><tr><td>str</td></tr></thead><tbody><tr><td>&quot;77092-2016&quot;</td></tr><tr><td>&quot;11549-3650&quot;</td></tr><tr><td>&quot;55164-0737&quot;</td></tr><tr><td>&quot;35209-3114&quot;</td></tr><tr><td>&quot;29616-0759&quot;</td></tr></tbody></table></div>"
      ],
      "text/plain": [
       "shape: (5,)\n",
       "Series: 'Incident Zip' [str]\n",
       "[\n",
       "\t\"77092-2016\"\n",
       "\t\"11549-3650\"\n",
       "\t\"55164-0737\"\n",
       "\t\"35209-3114\"\n",
       "\t\"29616-0759\"\n",
       "]"
      ]
     },
     "execution_count": 7,
     "metadata": {},
     "output_type": "execute_result"
    }
   ],
   "source": [
    "requests.filter(\n",
    "    pl.col('Incident Zip').str.contains('-')\n",
    ")['Incident Zip'].unique()"
   ]
  },
  {
   "attachments": {},
   "cell_type": "markdown",
   "metadata": {},
   "source": [
    "Those all look okay to truncate to me."
   ]
  },
  {
   "cell_type": "code",
   "execution_count": 8,
   "metadata": {},
   "outputs": [
    {
     "data": {
      "text/html": [
       "<div><style>\n",
       ".dataframe > thead > tr,\n",
       ".dataframe > tbody > tr {\n",
       "  text-align: right;\n",
       "  white-space: pre-wrap;\n",
       "}\n",
       "</style>\n",
       "<small>shape: (0,)</small><table border=\"1\" class=\"dataframe\"><thead><tr><th>Incident Zip</th></tr><tr><td>str</td></tr></thead><tbody></tbody></table></div>"
      ],
      "text/plain": [
       "shape: (0,)\n",
       "Series: 'Incident Zip' [str]\n",
       "[\n",
       "]"
      ]
     },
     "execution_count": 8,
     "metadata": {},
     "output_type": "execute_result"
    }
   ],
   "source": [
    "requests = requests.with_columns(\n",
    "    pl.col('Incident Zip').str.slice(0, 5)\n",
    ")\n",
    "requests.filter(\n",
    "    pl.col('Incident Zip').str.contains('-')\n",
    ")['Incident Zip'].unique()"
   ]
  },
  {
   "attachments": {},
   "cell_type": "markdown",
   "metadata": {},
   "source": [
    "Done."
   ]
  },
  {
   "attachments": {},
   "cell_type": "markdown",
   "metadata": {},
   "source": [
    "Earlier I thought 00083 was a broken zip code, but turns out Central Park's zip code 00083! Shows what I know. I'm still concerned about the 00000 zip codes, though: let's look at that. "
   ]
  },
  {
   "cell_type": "code",
   "execution_count": 9,
   "metadata": {},
   "outputs": [
    {
     "data": {
      "text/html": [
       "<div><style>\n",
       ".dataframe > thead > tr,\n",
       ".dataframe > tbody > tr {\n",
       "  text-align: right;\n",
       "  white-space: pre-wrap;\n",
       "}\n",
       "</style>\n",
       "<small>shape: (2, 52)</small><table border=\"1\" class=\"dataframe\"><thead><tr><th>Unique Key</th><th>Created Date</th><th>Closed Date</th><th>Agency</th><th>Agency Name</th><th>Complaint Type</th><th>Descriptor</th><th>Location Type</th><th>Incident Zip</th><th>Incident Address</th><th>Street Name</th><th>Cross Street 1</th><th>Cross Street 2</th><th>Intersection Street 1</th><th>Intersection Street 2</th><th>Address Type</th><th>City</th><th>Landmark</th><th>Facility Type</th><th>Status</th><th>Due Date</th><th>Resolution Action Updated Date</th><th>Community Board</th><th>Borough</th><th>X Coordinate (State Plane)</th><th>Y Coordinate (State Plane)</th><th>Park Facility Name</th><th>Park Borough</th><th>School Name</th><th>School Number</th><th>School Region</th><th>School Code</th><th>School Phone Number</th><th>School Address</th><th>School City</th><th>School State</th><th>School Zip</th><th>School Not Found</th><th>School or Citywide Complaint</th><th>Vehicle Type</th><th>Taxi Company Borough</th><th>Taxi Pick Up Location</th><th>Bridge Highway Name</th><th>Bridge Highway Direction</th><th>Road Ramp</th><th>Bridge Highway Segment</th><th>Garage Lot Name</th><th>Ferry Direction</th><th>Ferry Terminal Name</th><th>Latitude</th><th>Longitude</th><th>Location</th></tr><tr><td>i64</td><td>str</td><td>str</td><td>str</td><td>str</td><td>str</td><td>str</td><td>str</td><td>str</td><td>str</td><td>str</td><td>str</td><td>str</td><td>str</td><td>str</td><td>str</td><td>str</td><td>str</td><td>str</td><td>str</td><td>str</td><td>str</td><td>str</td><td>str</td><td>i64</td><td>i64</td><td>str</td><td>str</td><td>str</td><td>str</td><td>str</td><td>str</td><td>str</td><td>str</td><td>str</td><td>str</td><td>str</td><td>str</td><td>str</td><td>str</td><td>str</td><td>str</td><td>str</td><td>str</td><td>str</td><td>str</td><td>str</td><td>str</td><td>str</td><td>f64</td><td>f64</td><td>str</td></tr></thead><tbody><tr><td>26529313</td><td>&quot;10/22/2013 02:51:06 PM&quot;</td><td>null</td><td>&quot;TLC&quot;</td><td>&quot;Taxi and Limousine Commission&quot;</td><td>&quot;Taxi Complaint&quot;</td><td>&quot;Driver Complaint&quot;</td><td>null</td><td>&quot;00000&quot;</td><td>&quot;EWR EWR&quot;</td><td>&quot;EWR&quot;</td><td>null</td><td>null</td><td>null</td><td>null</td><td>null</td><td>&quot;NEWARK&quot;</td><td>null</td><td>null</td><td>&quot;Assigned&quot;</td><td>&quot;12/07/2013 09:53:51 AM&quot;</td><td>&quot;10/23/2013 09:54:43 AM&quot;</td><td>&quot;0 Unspecified&quot;</td><td>&quot;Unspecified&quot;</td><td>null</td><td>null</td><td>&quot;Unspecified&quot;</td><td>&quot;Unspecified&quot;</td><td>&quot;Unspecified&quot;</td><td>&quot;Unspecified&quot;</td><td>&quot;Unspecified&quot;</td><td>&quot;Unspecified&quot;</td><td>&quot;Unspecified&quot;</td><td>&quot;Unspecified&quot;</td><td>&quot;Unspecified&quot;</td><td>&quot;Unspecified&quot;</td><td>&quot;Unspecified&quot;</td><td>&quot;N&quot;</td><td>null</td><td>null</td><td>null</td><td>&quot;Other&quot;</td><td>null</td><td>null</td><td>null</td><td>null</td><td>null</td><td>null</td><td>null</td><td>null</td><td>null</td><td>null</td></tr><tr><td>26507389</td><td>&quot;10/17/2013 05:48:44 PM&quot;</td><td>null</td><td>&quot;TLC&quot;</td><td>&quot;Taxi and Limousine Commission&quot;</td><td>&quot;Taxi Complaint&quot;</td><td>&quot;Driver Complaint&quot;</td><td>&quot;Street&quot;</td><td>&quot;00000&quot;</td><td>&quot;1 NEWARK AIRPORT&quot;</td><td>&quot;NEWARK AIRPORT&quot;</td><td>null</td><td>null</td><td>null</td><td>null</td><td>null</td><td>&quot;NEWARK&quot;</td><td>null</td><td>null</td><td>&quot;Assigned&quot;</td><td>&quot;12/02/2013 11:59:46 AM&quot;</td><td>&quot;10/18/2013 12:01:08 PM&quot;</td><td>&quot;0 Unspecified&quot;</td><td>&quot;Unspecified&quot;</td><td>null</td><td>null</td><td>&quot;Unspecified&quot;</td><td>&quot;Unspecified&quot;</td><td>&quot;Unspecified&quot;</td><td>&quot;Unspecified&quot;</td><td>&quot;Unspecified&quot;</td><td>&quot;Unspecified&quot;</td><td>&quot;Unspecified&quot;</td><td>&quot;Unspecified&quot;</td><td>&quot;Unspecified&quot;</td><td>&quot;Unspecified&quot;</td><td>&quot;Unspecified&quot;</td><td>&quot;N&quot;</td><td>null</td><td>null</td><td>null</td><td>&quot;Other&quot;</td><td>null</td><td>null</td><td>null</td><td>null</td><td>null</td><td>null</td><td>null</td><td>null</td><td>null</td><td>null</td></tr></tbody></table></div>"
      ],
      "text/plain": [
       "shape: (2, 52)\n",
       "┌────────────┬──────────────┬────────┬────────┬───┬──────────┬──────────┬───────────┬──────────┐\n",
       "│ Unique Key ┆ Created Date ┆ Closed ┆ Agency ┆ … ┆ Ferry    ┆ Latitude ┆ Longitude ┆ Location │\n",
       "│ ---        ┆ ---          ┆ Date   ┆ ---    ┆   ┆ Terminal ┆ ---      ┆ ---       ┆ ---      │\n",
       "│ i64        ┆ str          ┆ ---    ┆ str    ┆   ┆ Name     ┆ f64      ┆ f64       ┆ str      │\n",
       "│            ┆              ┆ str    ┆        ┆   ┆ ---      ┆          ┆           ┆          │\n",
       "│            ┆              ┆        ┆        ┆   ┆ str      ┆          ┆           ┆          │\n",
       "╞════════════╪══════════════╪════════╪════════╪═══╪══════════╪══════════╪═══════════╪══════════╡\n",
       "│ 26529313   ┆ 10/22/2013   ┆ null   ┆ TLC    ┆ … ┆ null     ┆ null     ┆ null      ┆ null     │\n",
       "│            ┆ 02:51:06 PM  ┆        ┆        ┆   ┆          ┆          ┆           ┆          │\n",
       "│ 26507389   ┆ 10/17/2013   ┆ null   ┆ TLC    ┆ … ┆ null     ┆ null     ┆ null      ┆ null     │\n",
       "│            ┆ 05:48:44 PM  ┆        ┆        ┆   ┆          ┆          ┆           ┆          │\n",
       "└────────────┴──────────────┴────────┴────────┴───┴──────────┴──────────┴───────────┴──────────┘"
      ]
     },
     "execution_count": 9,
     "metadata": {},
     "output_type": "execute_result"
    }
   ],
   "source": [
    "requests.filter(\n",
    "    pl.col('Incident Zip') == '00000'\n",
    ")"
   ]
  },
  {
   "attachments": {},
   "cell_type": "markdown",
   "metadata": {},
   "source": [
    "This looks bad to me. Let's set these to nan."
   ]
  },
  {
   "cell_type": "code",
   "execution_count": 10,
   "metadata": {},
   "outputs": [
    {
     "data": {
      "text/html": [
       "<div><style>\n",
       ".dataframe > thead > tr,\n",
       ".dataframe > tbody > tr {\n",
       "  text-align: right;\n",
       "  white-space: pre-wrap;\n",
       "}\n",
       "</style>\n",
       "<small>shape: (0, 52)</small><table border=\"1\" class=\"dataframe\"><thead><tr><th>Unique Key</th><th>Created Date</th><th>Closed Date</th><th>Agency</th><th>Agency Name</th><th>Complaint Type</th><th>Descriptor</th><th>Location Type</th><th>Incident Zip</th><th>Incident Address</th><th>Street Name</th><th>Cross Street 1</th><th>Cross Street 2</th><th>Intersection Street 1</th><th>Intersection Street 2</th><th>Address Type</th><th>City</th><th>Landmark</th><th>Facility Type</th><th>Status</th><th>Due Date</th><th>Resolution Action Updated Date</th><th>Community Board</th><th>Borough</th><th>X Coordinate (State Plane)</th><th>Y Coordinate (State Plane)</th><th>Park Facility Name</th><th>Park Borough</th><th>School Name</th><th>School Number</th><th>School Region</th><th>School Code</th><th>School Phone Number</th><th>School Address</th><th>School City</th><th>School State</th><th>School Zip</th><th>School Not Found</th><th>School or Citywide Complaint</th><th>Vehicle Type</th><th>Taxi Company Borough</th><th>Taxi Pick Up Location</th><th>Bridge Highway Name</th><th>Bridge Highway Direction</th><th>Road Ramp</th><th>Bridge Highway Segment</th><th>Garage Lot Name</th><th>Ferry Direction</th><th>Ferry Terminal Name</th><th>Latitude</th><th>Longitude</th><th>Location</th></tr><tr><td>i64</td><td>str</td><td>str</td><td>str</td><td>str</td><td>str</td><td>str</td><td>str</td><td>str</td><td>str</td><td>str</td><td>str</td><td>str</td><td>str</td><td>str</td><td>str</td><td>str</td><td>str</td><td>str</td><td>str</td><td>str</td><td>str</td><td>str</td><td>str</td><td>i64</td><td>i64</td><td>str</td><td>str</td><td>str</td><td>str</td><td>str</td><td>str</td><td>str</td><td>str</td><td>str</td><td>str</td><td>str</td><td>str</td><td>str</td><td>str</td><td>str</td><td>str</td><td>str</td><td>str</td><td>str</td><td>str</td><td>str</td><td>str</td><td>str</td><td>f64</td><td>f64</td><td>str</td></tr></thead><tbody></tbody></table></div>"
      ],
      "text/plain": [
       "shape: (0, 52)\n",
       "┌────────────┬─────────┬─────────────┬────────┬───┬──────────┬──────────┬───────────┬──────────┐\n",
       "│ Unique Key ┆ Created ┆ Closed Date ┆ Agency ┆ … ┆ Ferry    ┆ Latitude ┆ Longitude ┆ Location │\n",
       "│ ---        ┆ Date    ┆ ---         ┆ ---    ┆   ┆ Terminal ┆ ---      ┆ ---       ┆ ---      │\n",
       "│ i64        ┆ ---     ┆ str         ┆ str    ┆   ┆ Name     ┆ f64      ┆ f64       ┆ str      │\n",
       "│            ┆ str     ┆             ┆        ┆   ┆ ---      ┆          ┆           ┆          │\n",
       "│            ┆         ┆             ┆        ┆   ┆ str      ┆          ┆           ┆          │\n",
       "╞════════════╪═════════╪═════════════╪════════╪═══╪══════════╪══════════╪═══════════╪══════════╡\n",
       "└────────────┴─────────┴─────────────┴────────┴───┴──────────┴──────────┴───────────┴──────────┘"
      ]
     },
     "execution_count": 10,
     "metadata": {},
     "output_type": "execute_result"
    }
   ],
   "source": [
    "requests = requests.with_columns(\n",
    "    pl.when(pl.col('Incident Zip') == '00000').then(None).otherwise(pl.col('Incident Zip')).alias('Incident Zip')\n",
    ")\n",
    "requests.filter(\n",
    "    pl.col('Incident Zip') == '00000'\n",
    ")"
   ]
  },
  {
   "attachments": {},
   "cell_type": "markdown",
   "metadata": {},
   "source": [
    "Great. Let's see where we are now:"
   ]
  },
  {
   "cell_type": "code",
   "execution_count": 11,
   "metadata": {},
   "outputs": [
    {
     "data": {
      "text/html": [
       "<div><style>\n",
       ".dataframe > thead > tr,\n",
       ".dataframe > tbody > tr {\n",
       "  text-align: right;\n",
       "  white-space: pre-wrap;\n",
       "}\n",
       "</style>\n",
       "<small>shape: (246,)</small><table border=\"1\" class=\"dataframe\"><thead><tr><th>Incident Zip</th></tr><tr><td>str</td></tr></thead><tbody><tr><td>null</td></tr><tr><td>&quot;00083&quot;</td></tr><tr><td>&quot;02061&quot;</td></tr><tr><td>&quot;06901&quot;</td></tr><tr><td>&quot;07020&quot;</td></tr><tr><td>&hellip;</td></tr><tr><td>&quot;70711&quot;</td></tr><tr><td>&quot;77056&quot;</td></tr><tr><td>&quot;77092&quot;</td></tr><tr><td>&quot;90010&quot;</td></tr><tr><td>&quot;92123&quot;</td></tr></tbody></table></div>"
      ],
      "text/plain": [
       "shape: (246,)\n",
       "Series: 'Incident Zip' [str]\n",
       "[\n",
       "\tnull\n",
       "\t\"00083\"\n",
       "\t\"02061\"\n",
       "\t\"06901\"\n",
       "\t\"07020\"\n",
       "\t…\n",
       "\t\"70711\"\n",
       "\t\"77056\"\n",
       "\t\"77092\"\n",
       "\t\"90010\"\n",
       "\t\"92123\"\n",
       "]"
      ]
     },
     "execution_count": 11,
     "metadata": {},
     "output_type": "execute_result"
    }
   ],
   "source": [
    "unique_zips = requests['Incident Zip'].unique().sort()\n",
    "unique_zips"
   ]
  },
  {
   "attachments": {},
   "cell_type": "markdown",
   "metadata": {},
   "source": [
    "Amazing! This is much cleaner. There's something a bit weird here, though -- I looked up 77056 on Google maps, and that's in Texas.\n",
    "\n",
    "Let's take a closer look:"
   ]
  },
  {
   "cell_type": "code",
   "execution_count": 12,
   "metadata": {},
   "outputs": [
    {
     "data": {
      "text/html": [
       "<div><style>\n",
       ".dataframe > thead > tr,\n",
       ".dataframe > tbody > tr {\n",
       "  text-align: right;\n",
       "  white-space: pre-wrap;\n",
       "}\n",
       "</style>\n",
       "<small>shape: (1, 3)</small><table border=\"1\" class=\"dataframe\"><thead><tr><th>Incident Zip</th><th>Descriptor</th><th>City</th></tr><tr><td>str</td><td>str</td><td>str</td></tr></thead><tbody><tr><td>&quot;77056&quot;</td><td>&quot;Debt Not Owed&quot;</td><td>&quot;HOUSTON&quot;</td></tr></tbody></table></div>"
      ],
      "text/plain": [
       "shape: (1, 3)\n",
       "┌──────────────┬───────────────┬─────────┐\n",
       "│ Incident Zip ┆ Descriptor    ┆ City    │\n",
       "│ ---          ┆ ---           ┆ ---     │\n",
       "│ str          ┆ str           ┆ str     │\n",
       "╞══════════════╪═══════════════╪═════════╡\n",
       "│ 77056        ┆ Debt Not Owed ┆ HOUSTON │\n",
       "└──────────────┴───────────────┴─────────┘"
      ]
     },
     "execution_count": 12,
     "metadata": {},
     "output_type": "execute_result"
    }
   ],
   "source": [
    "requests.lazy().select(\n",
    "    'Incident Zip',\n",
    "    'Descriptor',\n",
    "    'City'\n",
    ").filter(\n",
    "    pl.col('Incident Zip') == \"77056\"\n",
    ").sort('Incident Zip').collect()"
   ]
  },
  {
   "attachments": {},
   "cell_type": "markdown",
   "metadata": {},
   "source": [
    "Okay, there really are requests coming from Houston! Good to know. Filtering by zip code is probably a bad way to handle this -- we should really be looking at the city instead."
   ]
  },
  {
   "cell_type": "code",
   "execution_count": 13,
   "metadata": {},
   "outputs": [
    {
     "data": {
      "text/html": [
       "<div><style>\n",
       ".dataframe > thead > tr,\n",
       ".dataframe > tbody > tr {\n",
       "  text-align: right;\n",
       "  white-space: pre-wrap;\n",
       "}\n",
       "</style>\n",
       "<small>shape: (101, 2)</small><table border=\"1\" class=\"dataframe\"><thead><tr><th>City</th><th>count</th></tr><tr><td>str</td><td>u32</td></tr></thead><tbody><tr><td>&quot;BROOKLYN&quot;</td><td>31662</td></tr><tr><td>&quot;NEW YORK&quot;</td><td>22664</td></tr><tr><td>&quot;BRONX&quot;</td><td>18438</td></tr><tr><td>null</td><td>12215</td></tr><tr><td>&quot;STATEN ISLAND&quot;</td><td>4766</td></tr><tr><td>&hellip;</td><td>&hellip;</td></tr><tr><td>&quot;SYRACUSE&quot;</td><td>1</td></tr><tr><td>&quot;NANUET&quot;</td><td>1</td></tr><tr><td>&quot;FARMINGDALE&quot;</td><td>1</td></tr><tr><td>&quot;NEW YOR&quot;</td><td>1</td></tr><tr><td>&quot;NEWARK AIRPORT&quot;</td><td>1</td></tr></tbody></table></div>"
      ],
      "text/plain": [
       "shape: (101, 2)\n",
       "┌────────────────┬───────┐\n",
       "│ City           ┆ count │\n",
       "│ ---            ┆ ---   │\n",
       "│ str            ┆ u32   │\n",
       "╞════════════════╪═══════╡\n",
       "│ BROOKLYN       ┆ 31662 │\n",
       "│ NEW YORK       ┆ 22664 │\n",
       "│ BRONX          ┆ 18438 │\n",
       "│ null           ┆ 12215 │\n",
       "│ STATEN ISLAND  ┆ 4766  │\n",
       "│ …              ┆ …     │\n",
       "│ SYRACUSE       ┆ 1     │\n",
       "│ NANUET         ┆ 1     │\n",
       "│ FARMINGDALE    ┆ 1     │\n",
       "│ NEW YOR        ┆ 1     │\n",
       "│ NEWARK AIRPORT ┆ 1     │\n",
       "└────────────────┴───────┘"
      ]
     },
     "execution_count": 13,
     "metadata": {},
     "output_type": "execute_result"
    }
   ],
   "source": [
    "requests['City'].str.to_uppercase().value_counts(sort=True)"
   ]
  },
  {
   "attachments": {},
   "cell_type": "markdown",
   "metadata": {},
   "source": [
    "There are 12,215 `null` values in the `City` column. Upon closer look, it seems that many of these rows also have missing `Incident Zip` values as well:"
   ]
  },
  {
   "cell_type": "code",
   "execution_count": 14,
   "metadata": {},
   "outputs": [
    {
     "data": {
      "text/html": [
       "<div><style>\n",
       ".dataframe > thead > tr,\n",
       ".dataframe > tbody > tr {\n",
       "  text-align: right;\n",
       "  white-space: pre-wrap;\n",
       "}\n",
       "</style>\n",
       "<small>shape: (12_215, 3)</small><table border=\"1\" class=\"dataframe\"><thead><tr><th>Incident Zip</th><th>Descriptor</th><th>City</th></tr><tr><td>str</td><td>str</td><td>str</td></tr></thead><tbody><tr><td>null</td><td>&quot;Street Light Out&quot;</td><td>null</td></tr><tr><td>null</td><td>&quot;Street Light Out&quot;</td><td>null</td></tr><tr><td>null</td><td>&quot;Medicaid&quot;</td><td>null</td></tr><tr><td>null</td><td>&quot;Controller&quot;</td><td>null</td></tr><tr><td>null</td><td>&quot;Property Tax Exemption Applica…</td><td>null</td></tr><tr><td>&hellip;</td><td>&hellip;</td><td>&hellip;</td></tr><tr><td>null</td><td>&quot;Street Light Out&quot;</td><td>null</td></tr><tr><td>null</td><td>&quot;Street Light Out&quot;</td><td>null</td></tr><tr><td>null</td><td>&quot;Property Tax Exemption Applica…</td><td>null</td></tr><tr><td>&quot;10022&quot;</td><td>&quot;Driver Complaint&quot;</td><td>null</td></tr><tr><td>&quot;11429&quot;</td><td>&quot;Dead Animal&quot;</td><td>null</td></tr></tbody></table></div>"
      ],
      "text/plain": [
       "shape: (12_215, 3)\n",
       "┌──────────────┬─────────────────────────────────┬──────┐\n",
       "│ Incident Zip ┆ Descriptor                      ┆ City │\n",
       "│ ---          ┆ ---                             ┆ ---  │\n",
       "│ str          ┆ str                             ┆ str  │\n",
       "╞══════════════╪═════════════════════════════════╪══════╡\n",
       "│ null         ┆ Street Light Out                ┆ null │\n",
       "│ null         ┆ Street Light Out                ┆ null │\n",
       "│ null         ┆ Medicaid                        ┆ null │\n",
       "│ null         ┆ Controller                      ┆ null │\n",
       "│ null         ┆ Property Tax Exemption Applica… ┆ null │\n",
       "│ …            ┆ …                               ┆ …    │\n",
       "│ null         ┆ Street Light Out                ┆ null │\n",
       "│ null         ┆ Street Light Out                ┆ null │\n",
       "│ null         ┆ Property Tax Exemption Applica… ┆ null │\n",
       "│ 10022        ┆ Driver Complaint                ┆ null │\n",
       "│ 11429        ┆ Dead Animal                     ┆ null │\n",
       "└──────────────┴─────────────────────────────────┴──────┘"
      ]
     },
     "execution_count": 14,
     "metadata": {},
     "output_type": "execute_result"
    }
   ],
   "source": [
    "requests.select(\n",
    "    'Incident Zip',\n",
    "    'Descriptor',\n",
    "    'City'\n",
    ").filter(\n",
    "    pl.col('City').is_null()\n",
    ").sort('Incident Zip')"
   ]
  },
  {
   "attachments": {},
   "cell_type": "markdown",
   "metadata": {},
   "source": [
    "# 7.4 Putting it together"
   ]
  },
  {
   "attachments": {},
   "cell_type": "markdown",
   "metadata": {},
   "source": [
    "Here's what we ended up doing to clean up our zip codes, all together:"
   ]
  },
  {
   "cell_type": "code",
   "execution_count": 15,
   "metadata": {},
   "outputs": [],
   "source": [
    "null_values = ['NO CLUE', 'N/A', '0', 'NA']\n",
    "requests = (\n",
    "    pl.scan_csv('../data/311-service-requests.csv', null_values=null_values, schema_overrides={'Incident Zip':pl.String})\n",
    "    .with_columns(pl.col('Incident Zip').str.slice(0, 5))\n",
    ")\n",
    "requests = (\n",
    "    requests\n",
    "    .with_columns(pl.when(pl.col('Incident Zip') == '00000').then(None).otherwise(pl.col('Incident Zip')).alias('Incident Zip'))\n",
    "    .filter(pl.col('Incident Zip').is_not_null())\n",
    "    .collect()\n",
    ")"
   ]
  },
  {
   "cell_type": "code",
   "execution_count": 16,
   "metadata": {},
   "outputs": [
    {
     "data": {
      "text/html": [
       "<div><style>\n",
       ".dataframe > thead > tr,\n",
       ".dataframe > tbody > tr {\n",
       "  text-align: right;\n",
       "  white-space: pre-wrap;\n",
       "}\n",
       "</style>\n",
       "<small>shape: (245,)</small><table border=\"1\" class=\"dataframe\"><thead><tr><th>Incident Zip</th></tr><tr><td>str</td></tr></thead><tbody><tr><td>&quot;00083&quot;</td></tr><tr><td>&quot;02061&quot;</td></tr><tr><td>&quot;06901&quot;</td></tr><tr><td>&quot;07020&quot;</td></tr><tr><td>&quot;07087&quot;</td></tr><tr><td>&hellip;</td></tr><tr><td>&quot;70711&quot;</td></tr><tr><td>&quot;77056&quot;</td></tr><tr><td>&quot;77092&quot;</td></tr><tr><td>&quot;90010&quot;</td></tr><tr><td>&quot;92123&quot;</td></tr></tbody></table></div>"
      ],
      "text/plain": [
       "shape: (245,)\n",
       "Series: 'Incident Zip' [str]\n",
       "[\n",
       "\t\"00083\"\n",
       "\t\"02061\"\n",
       "\t\"06901\"\n",
       "\t\"07020\"\n",
       "\t\"07087\"\n",
       "\t…\n",
       "\t\"70711\"\n",
       "\t\"77056\"\n",
       "\t\"77092\"\n",
       "\t\"90010\"\n",
       "\t\"92123\"\n",
       "]"
      ]
     },
     "execution_count": 16,
     "metadata": {},
     "output_type": "execute_result"
    }
   ],
   "source": [
    "requests['Incident Zip'].unique().sort()"
   ]
  },
  {
   "attachments": {},
   "cell_type": "markdown",
   "metadata": {},
   "source": [
    "<style>\n",
    "    @font-face {\n",
    "        font-family: \"Computer Modern\";\n",
    "        src: url('http://mirrors.ctan.org/fonts/cm-unicode/fonts/otf/cmunss.otf');\n",
    "    }\n",
    "    div.cell{\n",
    "        width:800px;\n",
    "        margin-left:16% !important;\n",
    "        margin-right:auto;\n",
    "    }\n",
    "    h1 {\n",
    "        font-family: Helvetica, serif;\n",
    "    }\n",
    "    h4{\n",
    "        margin-top:12px;\n",
    "        margin-bottom: 3px;\n",
    "       }\n",
    "    div.text_cell_render{\n",
    "        font-family: Computer Modern, \"Helvetica Neue\", Arial, Helvetica, Geneva, sans-serif;\n",
    "        line-height: 145%;\n",
    "        font-size: 130%;\n",
    "        width:800px;\n",
    "        margin-left:auto;\n",
    "        margin-right:auto;\n",
    "    }\n",
    "    .CodeMirror{\n",
    "            font-family: \"Source Code Pro\", source-code-pro,Consolas, monospace;\n",
    "    }\n",
    "    .text_cell_render h5 {\n",
    "        font-weight: 300;\n",
    "        font-size: 22pt;\n",
    "        color: #4057A1;\n",
    "        font-style: italic;\n",
    "        margin-bottom: .5em;\n",
    "        margin-top: 0.5em;\n",
    "        display: block;\n",
    "    }\n",
    "    \n",
    "    .warning{\n",
    "        color: rgb( 240, 20, 20 )\n",
    "        }  "
   ]
  }
 ],
 "metadata": {
  "kernelspec": {
   "display_name": "Python 3 (ipykernel)",
   "language": "python",
   "name": "python3"
  },
  "language_info": {
   "codemirror_mode": {
    "name": "ipython",
    "version": 3
   },
   "file_extension": ".py",
   "mimetype": "text/x-python",
   "name": "python",
   "nbconvert_exporter": "python",
   "pygments_lexer": "ipython3",
   "version": "3.12.4"
  }
 },
 "nbformat": 4,
 "nbformat_minor": 4
}
